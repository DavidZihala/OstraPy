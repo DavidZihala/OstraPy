{
 "cells": [
  {
   "cell_type": "markdown",
   "metadata": {},
   "source": [
    "**1: Load variables below.**"
   ]
  },
  {
   "cell_type": "code",
   "execution_count": 11,
   "metadata": {
    "collapsed": true,
    "jupyter": {
     "outputs_hidden": true
    }
   },
   "outputs": [],
   "source": [
    "ncbi_list1 =  ['NP_001191615.1', 'NP_571131.1', 'XP_014388588.1', 'XP_011213888.1', 'XP_015485235.1']\n",
    "ncbi_list2 =  ['NP_001191615.1', 'NP_571131.1',    'XP_002920166.1', 'XP_014388588.1', 'XP_011213888.1']\n",
    "partial_insulin = 'MALWMRLLPLLALLALWGPDPAAAFVNQHLCGSHLVEALYLVCGERGFFYTPKTRREAEDLQVGQVELGGGPGAGSLQPLA'"
   ]
  },
  {
   "cell_type": "markdown",
   "metadata": {},
   "source": [
    "**2: Verilen numaralardan ncbi_list2 de bulunan ama ncbi_list1 de bulunmayan numaraları yazdırınız.**"
   ]
  },
  {
   "cell_type": "markdown",
   "metadata": {},
   "source": [
    "**3: İki listede de ortak olan numaralar hanğileridir?**"
   ]
  },
  {
   "cell_type": "markdown",
   "metadata": {},
   "source": [
    "**4: partial_insulin dizisi içerisindeki her bir amino acidin kaç kere bulunduğunu hesaplayınız. İpucu - Collection isimli modülde bu amaç için kullanılan bir fonksiyon var**"
   ]
  },
  {
   "cell_type": "markdown",
   "metadata": {},
   "source": [
    "**5: Collection modülü içerisinden defaultdict'i kullanarak bir sözlük oluşturun, bu sözlügün key degerleri ncbi_list1 içerisindeki degerler olacak ve value değerleri toplam sayısı '1' (ncbi numaraları listesinin ilk ögesi) ve ncbi numara içerisindeki toplam sayı '2'**"
   ]
  },
  {
   "cell_type": "markdown",
   "metadata": {},
   "source": [
    "**6: Fasta başlığı verilen organizmanın ismini alınız: >Neodam_TRINITY_DN9413_c0_g1_i1|m.6780@Archaea@Elongation factor 1-alpha^Pyrobaculum neutrophilum@1.75018e-37**"
   ]
  },
  {
   "cell_type": "markdown",
   "metadata": {},
   "source": [
    "**8: Aşağıdaki kodu list comprehension olacak şekilde değiştiriniz.**"
   ]
  },
  {
   "cell_type": "code",
   "execution_count": null,
   "metadata": {},
   "outputs": [],
   "source": [
    "for x, y in zip(ncbi_list1, ncbi_list2):\n",
    "    print(x + '@@' + y)"
   ]
  },
  {
   "cell_type": "markdown",
   "metadata": {},
   "source": [
    "**9: TAA'nın bütün alt dizelerinin pozisyonlarını verilen dizi içerisinden yazdırınız: ATGCTAGCTATAACGTAGCTATAAAGTACAGTAGCTAAGTACATAA**"
   ]
  },
  {
   "cell_type": "markdown",
   "metadata": {},
   "source": [
    "**10: ncbi_list1'i ncbi_list1_copy isimli yeni bir değişken olarak kopyalayınız. Bir kopyasını elde ettiğinizden emin olun! ncbi_list1 içerisinden 1 ögeyi değiştirin ve bu değişikliğin diger değişkenimizi etkileyip etkilemediğini kontrol edin.**"
   ]
  }
 ],
 "metadata": {
  "kernelspec": {
   "display_name": "Python 3",
   "language": "python",
   "name": "python3"
  },
  "language_info": {
   "codemirror_mode": {
    "name": "ipython",
    "version": 3
   },
   "file_extension": ".py",
   "mimetype": "text/x-python",
   "name": "python",
   "nbconvert_exporter": "python",
   "pygments_lexer": "ipython3",
   "version": "3.7.3"
  }
 },
 "nbformat": 4,
 "nbformat_minor": 4
}
