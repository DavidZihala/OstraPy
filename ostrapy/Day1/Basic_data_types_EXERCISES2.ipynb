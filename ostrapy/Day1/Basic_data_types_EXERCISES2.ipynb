{
 "cells": [
  {
   "cell_type": "markdown",
   "metadata": {},
   "source": [
    "**1: Load variables below.**"
   ]
  },
  {
   "cell_type": "code",
   "execution_count": 11,
   "metadata": {
    "collapsed": true,
    "jupyter": {
     "outputs_hidden": true
    }
   },
   "outputs": [],
   "source": [
    "ncbi_list1 =  ['NP_001191615.1', 'NP_571131.1', 'XP_014388588.1', 'XP_011213888.1', 'XP_015485235.1']\n",
    "ncbi_list2 =  ['NP_001191615.1', 'NP_571131.1',    'XP_002920166.1', 'XP_014388588.1', 'XP_011213888.1']\n",
    "partial_insulin = 'MALWMRLLPLLALLALWGPDPAAAFVNQHLCGSHLVEALYLVCGERGFFYTPKTRREAEDLQVGQVELGGGPGAGSLQPLA'"
   ]
  },
  {
   "cell_type": "markdown",
   "metadata": {},
   "source": [
    "**2: Print numbers which are in ncbi_list2 but not in ncbi_list1 and vice versa.**"
   ]
  },
  {
   "cell_type": "markdown",
   "metadata": {},
   "source": [
    "**3: Which numbers are common for both lists?**"
   ]
  },
  {
   "cell_type": "markdown",
   "metadata": {},
   "source": [
    "**4: Count occurence of every amino acid in partial_insulin sequence. Little hint - there is something for that purpose in collections module**"
   ]
  },
  {
   "cell_type": "markdown",
   "metadata": {},
   "source": [
    "**5: Use defaultdict from collections and prepare dictionary where keys will be names from ncbi_list1 and value will be total number of '1' in the ncbi number (first item in litst) and total number of '2' in the ncbi number**"
   ]
  },
  {
   "cell_type": "markdown",
   "metadata": {},
   "source": [
    "**6: Get organism name from this fasta header: >Neodam_TRINITY_DN9413_c0_g1_i1|m.6780@Archaea@Elongation factor 1-alpha^Pyrobaculum neutrophilum@1.75018e-37**"
   ]
  },
  {
   "cell_type": "markdown",
   "metadata": {},
   "source": [
    "**8: Change code below to list comprehension.**"
   ]
  },
  {
   "cell_type": "code",
   "execution_count": null,
   "metadata": {},
   "outputs": [],
   "source": [
    "for x, y in zip(ncbi_list1, ncbi_list2):\n",
    "    print(x + '@@' + y)"
   ]
  },
  {
   "cell_type": "markdown",
   "metadata": {},
   "source": [
    "**9: Print all positions of substring TAA in ATGCTAGCTATAACGTAGCTATAAAGTACAGTAGCTAAGTACATAA**"
   ]
  },
  {
   "cell_type": "markdown",
   "metadata": {},
   "source": [
    "**10: Copy ncbi_list1 to a new variable ncbi_list1_copy. Make sure that you really have a copy: change one item in ncbi_list1 and check if it also changed your list.**"
   ]
  }
 ],
 "metadata": {
  "kernelspec": {
   "display_name": "Python 3",
   "language": "python",
   "name": "python3"
  },
  "language_info": {
   "codemirror_mode": {
    "name": "ipython",
    "version": 3
   },
   "file_extension": ".py",
   "mimetype": "text/x-python",
   "name": "python",
   "nbconvert_exporter": "python",
   "pygments_lexer": "ipython3",
   "version": "3.7.3"
  }
 },
 "nbformat": 4,
 "nbformat_minor": 4
}
