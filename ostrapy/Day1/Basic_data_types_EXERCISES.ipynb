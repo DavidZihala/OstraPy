{
 "cells": [
  {
   "cell_type": "markdown",
   "metadata": {},
   "source": [
    "# String"
   ]
  },
  {
   "cell_type": "markdown",
   "metadata": {},
   "source": [
    "**1: Aşagıda bir kısmı verilen insülin dizisini insülin değişkenine atayınız \"insulin\":**\n",
    "**'MALWMRLLPLLALLALWGPDPAAAFVNQHLCGSHLVEALYLVCGERGFFYTPKTRREAEDLQVGQVELGGGPGAGSLQPLA'**"
   ]
  },
  {
   "cell_type": "markdown",
   "metadata": {},
   "source": [
    "**2: Bu dizinin uzunluğu ne kadar?**"
   ]
  },
  {
   "cell_type": "markdown",
   "metadata": {},
   "source": [
    "**3: Dizi de kaç adet L(Leucine) bulunmaktadır?**"
   ]
  },
  {
   "cell_type": "markdown",
   "metadata": {},
   "source": [
    "**4: 'PAAAF' ın insulin içindeki başlangıç pozisyonu nedir?**"
   ]
  },
  {
   "cell_type": "markdown",
   "metadata": {},
   "source": [
    "**5: 'LLLL' dizisi insülin dizisi içerisinde mi?**"
   ]
  },
  {
   "cell_type": "markdown",
   "metadata": {},
   "source": [
    "**6: İnsülin içerisindeki ilk amino acidi yazdırınız -Print**"
   ]
  },
  {
   "cell_type": "markdown",
   "metadata": {},
   "source": [
    "**7: İnsülin içerisindeki ilk 6 amino acidi yazdırınız -Print**"
   ]
  },
  {
   "cell_type": "markdown",
   "metadata": {},
   "source": [
    "**8: İnsülin içerisindeki son amino acidi yazdırınız- Print**"
   ]
  },
  {
   "cell_type": "markdown",
   "metadata": {},
   "source": [
    "**9: Tüm 'L' olan harfleri 'X' ile degiştiriniz -Replace**"
   ]
  },
  {
   "cell_type": "markdown",
   "metadata": {},
   "source": [
    "**10: İnsülin dizisini küçük harfe dönüştürünüz**"
   ]
  },
  {
   "cell_type": "markdown",
   "metadata": {},
   "source": [
    "# Listeler"
   ]
  },
  {
   "cell_type": "markdown",
   "metadata": {},
   "source": [
    "**1: NP_001191615.1, NP_571131.1, XP_014388588.1, XP_011213888.1 degişkenlerini barındıran ncbi_list isimli bir liste oluşturunuz**"
   ]
  },
  {
   "cell_type": "markdown",
   "metadata": {},
   "source": [
    "**2: Bu listenin uzunluğu ne kadar ?(Lütfen bunu pythonun bulmasına izin verin :D )**"
   ]
  },
  {
   "cell_type": "markdown",
   "metadata": {},
   "source": [
    "**3: Oluşturduğumuz listenin içerisinde NP_571231.1 ögesi var mı?**"
   ]
  },
  {
   "cell_type": "markdown",
   "metadata": {},
   "source": [
    "**4: ncbi_list isimli listenin ilk ögesini yazdırınız**"
   ]
  },
  {
   "cell_type": "markdown",
   "metadata": {},
   "source": [
    "**5: Add 'NP_571131.1' ögesini ncbi_list isimli listeye ekleyiniz.**"
   ]
  },
  {
   "cell_type": "markdown",
   "metadata": {},
   "source": [
    "# Set"
   ]
  },
  {
   "cell_type": "markdown",
   "metadata": {},
   "source": [
    "**1:NP_001191615.1, NP_571131.1, NP_001191615.1, XP_011213888.1, NP_001191615.1 ögelerinden oluşan ncbi_set isimli bir küme oluşturnuz**"
   ]
  },
  {
   "cell_type": "markdown",
   "metadata": {},
   "source": [
    "**2: Bu kümenin uzunlugu ne kadar?**"
   ]
  },
  {
   "cell_type": "markdown",
   "metadata": {},
   "source": [
    "**3: NP_001191615.1, NP_571131.1, NP_001191615.1, XP_011213888.1, NP_001191615.1 ögelerinden oluşan ncbi_ls isimli bir liste oluşturup bu listeyi ncbi_set isimli kümeye dönüştürünüz.**\n"
   ]
  },
  {
   "cell_type": "markdown",
   "metadata": {},
   "source": [
    "**4:'XP_004317908.1' ögesini ncbi_set isimli kümeye ekleyiniz.**"
   ]
  },
  {
   "cell_type": "markdown",
   "metadata": {},
   "source": [
    "# Sözlükler"
   ]
  },
  {
   "cell_type": "markdown",
   "metadata": {},
   "source": [
    "**1: codon_dict isimli bir sözlük oluşturup verilen kodonları ve karşılık geldikleri amino acidleri sözlük yapısında oluşturunuz,amino acidler: TGG: W, ATG: M, GAT: D, GAC: D** "
   ]
  },
  {
   "cell_type": "markdown",
   "metadata": {},
   "source": [
    "**2: codon_dict isimli sözlüğün büyüklügü ne kadardır ?**"
   ]
  },
  {
   "cell_type": "markdown",
   "metadata": {},
   "source": [
    "**3: 'GAT' kodonu ne kodlamaktadır?**"
   ]
  },
  {
   "cell_type": "markdown",
   "metadata": {},
   "source": [
    "**4: Bir tane stop kodonunu codon_dict isimli sözlüğe gösterilen şekilde ekleyiniz:'*'.**"
   ]
  },
  {
   "cell_type": "markdown",
   "metadata": {},
   "source": [
    "**5: Stop kodonu 'Q' olacak şekilde degiştiriniz.**"
   ]
  },
  {
   "cell_type": "markdown",
   "metadata": {},
   "source": [
    "**6: Stop kodonunun Q 'ya eşit olup olmadığını kontrol ediniz.**"
   ]
  }
 ],
 "metadata": {
  "kernelspec": {
   "display_name": "Python 3",
   "language": "python",
   "name": "python3"
  },
  "language_info": {
   "codemirror_mode": {
    "name": "ipython",
    "version": 3
   },
   "file_extension": ".py",
   "mimetype": "text/x-python",
   "name": "python",
   "nbconvert_exporter": "python",
   "pygments_lexer": "ipython3",
   "version": "3.7.3"
  }
 },
 "nbformat": 4,
 "nbformat_minor": 4
}
