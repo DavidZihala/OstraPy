{
 "cells": [
  {
   "cell_type": "markdown",
   "metadata": {},
   "source": [
    "**1: Print name for every sequence in rab20.fasta. (Vypište jména všech sekvencí ze souboru rab20.fasta.)**"
   ]
  },
  {
   "cell_type": "markdown",
   "metadata": {},
   "source": [
    "**2: Print sequence for every sequence in rab20.fasta (and empty line between them. (Vypište sekvence všech fasta recordů ze souboru rab20.fasta a vložte mezi ně vždy prázdný řádek.)**"
   ]
  },
  {
   "cell_type": "markdown",
   "metadata": {},
   "source": [
    "**3: Write name for every sequence in rab20_ncbi.fasta to a file named result_names.txt. One name per line. (Zapište jména všech sekvencí z rab20_ncbi.fasta do souboru jménem result_names.txt. Každé jméno na samostatný řádek.)**"
   ]
  },
  {
   "cell_type": "markdown",
   "metadata": {},
   "source": [
    "**4: How many sequences from rab20_ncbi.fasta (100 sequences) are longer than 230 aa? Put their IDs into list and print that list. (Kolik sekvencí ze souboru rab20_ncbi.fasta (100 sekvencí) je delší než 230 aa? Uložte názvy těchto sekvencí a následně je všechny vypište.)**"
   ]
  },
  {
   "cell_type": "markdown",
   "metadata": {},
   "source": [
    "**5: Prepare sequence dictionary but use full names as keys. There is no need for to_dict function. (Vytvořte dictionary ze sekvencí ze soubrou rab20_ncbi.fasta.)**"
   ]
  },
  {
   "cell_type": "markdown",
   "metadata": {},
   "source": [
    "**6: Do the same as in 5. but use full names as keys instead of names. (Vytvořte dictionary podobnou té z úlohy č. 5, ale jako keys použijte plné názvy sekvencí.)**"
   ]
  }
 ],
 "metadata": {
  "kernelspec": {
   "display_name": "Python 3",
   "language": "python",
   "name": "python3"
  },
  "language_info": {
   "codemirror_mode": {
    "name": "ipython",
    "version": 3
   },
   "file_extension": ".py",
   "mimetype": "text/x-python",
   "name": "python",
   "nbconvert_exporter": "python",
   "pygments_lexer": "ipython3",
   "version": "3.6.6"
  }
 },
 "nbformat": 4,
 "nbformat_minor": 2
}
