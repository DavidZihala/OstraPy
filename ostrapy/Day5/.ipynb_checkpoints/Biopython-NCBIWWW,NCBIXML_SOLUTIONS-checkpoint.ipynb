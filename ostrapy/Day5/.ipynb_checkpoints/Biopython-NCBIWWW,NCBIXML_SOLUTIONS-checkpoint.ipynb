{
 "cells": [
  {
   "cell_type": "markdown",
   "metadata": {},
   "source": [
    "**1: Load xenopus_tropicalis_rab20.fasta with SeqIO.read to your script. Use NCBIWWW.qblast for blasting it against refseq_protein database. Save blast result to a file name xenopus_tropicalis_rab20.xml**"
   ]
  },
  {
   "cell_type": "code",
   "execution_count": null,
   "metadata": {},
   "outputs": [],
   "source": [
    "from Bio.Blast import NCBIWWW\n",
    "from Bio import SeqIO\n",
    "\n",
    "infile = \"xenopus_tropicalis_rab20.fasta\"\n",
    "record = SeqIO.read(infile, format=\"fasta\")\n",
    "handle = NCBIWWW.qblast(\"blastp\", \"refseq_protein\", record.seq)\n",
    "with open(infile.split('.')[0]+ \".xml\", \"w\") as res:\n",
    "    res.write(handle.read())"
   ]
  },
  {
   "cell_type": "markdown",
   "metadata": {},
   "source": [
    "**2:  Use NCBIXML.read to read your xenopus_tropicalis_rab20.xml. Print all hit accessions.**"
   ]
  },
  {
   "cell_type": "code",
   "execution_count": null,
   "metadata": {},
   "outputs": [],
   "source": [
    "from Bio.Blast import NCBIXML\n",
    "\n",
    "blastout = open('xenopus_tropicalis_rab20.xml')\n",
    "blast_record = NCBIXML.read(blastout)\n",
    "\n",
    "for aln in blast_record.alignments:\n",
    "    print(aln.accession)"
   ]
  },
  {
   "cell_type": "markdown",
   "metadata": {},
   "source": [
    "**3: Use NCBIXML.read to read your xenopus_tropicalis_rab20.xml. Print all hit accessions with evalue. **"
   ]
  },
  {
   "cell_type": "code",
   "execution_count": null,
   "metadata": {},
   "outputs": [],
   "source": [
    "from Bio.Blast import NCBIXML\n",
    "\n",
    "blastout = open('xenopus_tropicalis_rab20.xml')\n",
    "blast_record = NCBIXML.read(blastout)\n",
    "\n",
    "for aln in blast_record.alignments:\n",
    "    for hsp in aln.hsps:\n",
    "        print('id: {}\\nevalue:{}\\n'.format(aln.accession, hsp.expect))"
   ]
  }
 ],
 "metadata": {
  "kernelspec": {
   "display_name": "Python 3",
   "language": "python",
   "name": "python3"
  },
  "language_info": {
   "codemirror_mode": {
    "name": "ipython",
    "version": 3
   },
   "file_extension": ".py",
   "mimetype": "text/x-python",
   "name": "python",
   "nbconvert_exporter": "python",
   "pygments_lexer": "ipython3",
   "version": "3.6.5"
  }
 },
 "nbformat": 4,
 "nbformat_minor": 2
}
