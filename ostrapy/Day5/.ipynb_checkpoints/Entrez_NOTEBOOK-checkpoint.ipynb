{
 "cells": [
  {
   "cell_type": "markdown",
   "metadata": {},
   "source": [
    "## Entrez package\n",
    "\n",
    "Thanks to Entrez package we can comunnicate with Entrez databases.\n",
    "Entrez package nám umožňuje komunikaci s databázemi Entrez ( https://www.ncbi.nlm.nih.gov/Class/MLACourse/Original8Hour/Entrez/ ) "
   ]
  },
  {
   "cell_type": "code",
   "execution_count": 1,
   "metadata": {},
   "outputs": [],
   "source": [
    "# protein search based on protein ID. result in gb format\n",
    "from Bio import Entrez\n",
    "from Bio import SeqIO\n",
    "Entrez.email = \"zihaladavid@gmail.com\"\n",
    "\n",
    "protein_id = 'NP_035357.1'\n",
    "net_handle = Entrez.efetch(db=\"protein\", id=protein_id, rettype=\"gb\", retmode=\"text\")\n",
    "out_handle = open(protein_id + '.gb', \"w\")\n",
    "out_handle.write(net_handle.read())\n",
    "out_handle.close()\n",
    "net_handle.close()\n",
    "handle = open(protein_id + '.gb', mode=\"r\")\n",
    "protein_record = SeqIO.read(handle, \"genbank\") # načtení výsledného gb souboru pomocí SeqIO.read"
   ]
  },
  {
   "cell_type": "code",
   "execution_count": 2,
   "metadata": {},
   "outputs": [
    {
     "data": {
      "text/plain": [
       "list"
      ]
     },
     "execution_count": 2,
     "metadata": {},
     "output_type": "execute_result"
    }
   ],
   "source": [
    "type(protein_record.features)"
   ]
  },
  {
   "cell_type": "code",
   "execution_count": 3,
   "metadata": {},
   "outputs": [
    {
     "data": {
      "text/plain": [
       "[SeqFeature(FeatureLocation(ExactPosition(0), ExactPosition(233)), type='source'),\n",
       " SeqFeature(FeatureLocation(ExactPosition(0), ExactPosition(233)), type='Protein'),\n",
       " SeqFeature(FeatureLocation(ExactPosition(6), ExactPosition(232)), type='Region'),\n",
       " SeqFeature(FeatureLocation(ExactPosition(6), ExactPosition(196)), type='Region'),\n",
       " SeqFeature(FeatureLocation(ExactPosition(11), ExactPosition(19)), type='Site'),\n",
       " SeqFeature(CompoundLocation([FeatureLocation(ExactPosition(13), ExactPosition(20)), FeatureLocation(ExactPosition(29), ExactPosition(30)), FeatureLocation(ExactPosition(34), ExactPosition(36)), FeatureLocation(ExactPosition(57), ExactPosition(58)), FeatureLocation(ExactPosition(112), ExactPosition(114)), FeatureLocation(ExactPosition(115), ExactPosition(116)), FeatureLocation(ExactPosition(181), ExactPosition(184))], 'order'), type='Site', location_operator='order'),\n",
       " SeqFeature(CompoundLocation([FeatureLocation(ExactPosition(19), ExactPosition(30)), FeatureLocation(ExactPosition(33), ExactPosition(35))], 'order'), type='Site', location_operator='order'),\n",
       " SeqFeature(CompoundLocation([FeatureLocation(ExactPosition(29), ExactPosition(30)), FeatureLocation(ExactPosition(33), ExactPosition(42))], 'order'), type='Site', location_operator='order'),\n",
       " SeqFeature(FeatureLocation(ExactPosition(32), ExactPosition(41)), type='Region'),\n",
       " SeqFeature(CompoundLocation([FeatureLocation(ExactPosition(33), ExactPosition(34)), FeatureLocation(ExactPosition(37), ExactPosition(45)), FeatureLocation(ExactPosition(47), ExactPosition(48)), FeatureLocation(ExactPosition(49), ExactPosition(50))], 'order'), type='Site', location_operator='order'),\n",
       " SeqFeature(FeatureLocation(ExactPosition(35), ExactPosition(36)), type='Site'),\n",
       " SeqFeature(CompoundLocation([FeatureLocation(ExactPosition(36), ExactPosition(37)), FeatureLocation(ExactPosition(38), ExactPosition(41)), FeatureLocation(ExactPosition(51), ExactPosition(52)), FeatureLocation(ExactPosition(53), ExactPosition(54)), FeatureLocation(ExactPosition(60), ExactPosition(62)), FeatureLocation(ExactPosition(64), ExactPosition(65)), FeatureLocation(ExactPosition(68), ExactPosition(69)), FeatureLocation(ExactPosition(73), ExactPosition(74))], 'order'), type='Site', location_operator='order'),\n",
       " SeqFeature(CompoundLocation([FeatureLocation(ExactPosition(36), ExactPosition(38)), FeatureLocation(ExactPosition(39), ExactPosition(40)), FeatureLocation(ExactPosition(53), ExactPosition(55)), FeatureLocation(ExactPosition(61), ExactPosition(62)), FeatureLocation(ExactPosition(63), ExactPosition(64)), FeatureLocation(ExactPosition(65), ExactPosition(68))], 'order'), type='Site', location_operator='order'),\n",
       " SeqFeature(FeatureLocation(ExactPosition(36), ExactPosition(41)), type='Site'),\n",
       " SeqFeature(FeatureLocation(ExactPosition(49), ExactPosition(54)), type='Site'),\n",
       " SeqFeature(FeatureLocation(ExactPosition(54), ExactPosition(58)), type='Site'),\n",
       " SeqFeature(CompoundLocation([FeatureLocation(ExactPosition(57), ExactPosition(58)), FeatureLocation(ExactPosition(59), ExactPosition(70))], 'order'), type='Site', location_operator='order'),\n",
       " SeqFeature(FeatureLocation(ExactPosition(60), ExactPosition(66)), type='Site'),\n",
       " SeqFeature(FeatureLocation(ExactPosition(68), ExactPosition(73)), type='Site'),\n",
       " SeqFeature(FeatureLocation(ExactPosition(77), ExactPosition(83)), type='Site'),\n",
       " SeqFeature(FeatureLocation(ExactPosition(105), ExactPosition(110)), type='Site'),\n",
       " SeqFeature(FeatureLocation(ExactPosition(112), ExactPosition(116)), type='Site'),\n",
       " SeqFeature(FeatureLocation(ExactPosition(181), ExactPosition(184)), type='Site'),\n",
       " SeqFeature(FeatureLocation(ExactPosition(197), ExactPosition(200)), type='Site'),\n",
       " SeqFeature(FeatureLocation(ExactPosition(230), ExactPosition(232)), type='Site'),\n",
       " SeqFeature(FeatureLocation(ExactPosition(0), ExactPosition(233)), type='CDS')]"
      ]
     },
     "execution_count": 3,
     "metadata": {},
     "output_type": "execute_result"
    }
   ],
   "source": [
    "protein_record.features"
   ]
  },
  {
   "cell_type": "code",
   "execution_count": 4,
   "metadata": {},
   "outputs": [
    {
     "data": {
      "text/plain": [
       "['__bool__',\n",
       " '__class__',\n",
       " '__contains__',\n",
       " '__delattr__',\n",
       " '__dict__',\n",
       " '__dir__',\n",
       " '__doc__',\n",
       " '__eq__',\n",
       " '__format__',\n",
       " '__ge__',\n",
       " '__getattribute__',\n",
       " '__gt__',\n",
       " '__hash__',\n",
       " '__init__',\n",
       " '__init_subclass__',\n",
       " '__iter__',\n",
       " '__le__',\n",
       " '__len__',\n",
       " '__lt__',\n",
       " '__module__',\n",
       " '__ne__',\n",
       " '__new__',\n",
       " '__nonzero__',\n",
       " '__reduce__',\n",
       " '__reduce_ex__',\n",
       " '__repr__',\n",
       " '__setattr__',\n",
       " '__sizeof__',\n",
       " '__str__',\n",
       " '__subclasshook__',\n",
       " '__weakref__',\n",
       " '_flip',\n",
       " '_get_location_operator',\n",
       " '_get_ref',\n",
       " '_get_ref_db',\n",
       " '_get_strand',\n",
       " '_set_location_operator',\n",
       " '_set_ref',\n",
       " '_set_ref_db',\n",
       " '_set_strand',\n",
       " '_shift',\n",
       " 'extract',\n",
       " 'id',\n",
       " 'location',\n",
       " 'location_operator',\n",
       " 'qualifiers',\n",
       " 'ref',\n",
       " 'ref_db',\n",
       " 'strand',\n",
       " 'type']"
      ]
     },
     "execution_count": 4,
     "metadata": {},
     "output_type": "execute_result"
    }
   ],
   "source": [
    "dir(protein_record.features[0])"
   ]
  },
  {
   "cell_type": "code",
   "execution_count": 5,
   "metadata": {},
   "outputs": [
    {
     "data": {
      "text/plain": [
       "'Region'"
      ]
     },
     "execution_count": 5,
     "metadata": {},
     "output_type": "execute_result"
    }
   ],
   "source": [
    "protein_record.features[2].type"
   ]
  },
  {
   "cell_type": "code",
   "execution_count": 7,
   "metadata": {},
   "outputs": [
    {
     "name": "stdout",
     "output_type": "stream",
     "text": [
      "gene id: 19332\n"
     ]
    }
   ],
   "source": [
    "# gene search base on ID of its corresponding protein products\n",
    "import os\n",
    "from Bio import Entrez\n",
    "from Bio import SeqIO\n",
    "\n",
    "Entrez.email = \"zihaladavid@gmail.com\"  # Always tell NCBI who you are\n",
    "\n",
    "def read_protein(protein_id):\n",
    "    filename = protein_id\n",
    "    if not os.path.isfile(filename): #if protein record is not in your folder\n",
    "        net_handle = Entrez.efetch(db=\"protein\", id=protein_id, rettype=\"gb\", retmode=\"text\")\n",
    "        out_handle = open(filename, \"w\")\n",
    "        out_handle.write(net_handle.read())\n",
    "        out_handle.close()\n",
    "        net_handle.close()\n",
    "    handle = open(filename, mode=\"r\")\n",
    "    protein_record = SeqIO.read(handle, \"genbank\")\n",
    "    return protein_record\n",
    "\n",
    "def get_gene_id(protein_record):\n",
    "    for feature in protein_record.features:\n",
    "        if feature.type == \"CDS\":\n",
    "            for item in feature.qualifiers[\"db_xref\"]:\n",
    "                if 'GeneID' in item:\n",
    "                    return((item.split(':'))[1])\n",
    "                \n",
    "protein_record = read_protein('NP_035357.1')\n",
    "gene_id = get_gene_id(protein_record)\n",
    "print('gene id:', gene_id)"
   ]
  },
  {
   "cell_type": "code",
   "execution_count": 1,
   "metadata": {},
   "outputs": [
    {
     "data": {
      "text/plain": [
       "3"
      ]
     },
     "execution_count": 1,
     "metadata": {},
     "output_type": "execute_result"
    }
   ],
   "source": [
    "# number of publications for given author\n",
    "from Bio import Entrez\n",
    "Entrez.email = \"A.N.Other@example.com\"     # Always tell NCBI who you are\n",
    "handle = Entrez.esearch(db=\"pubmed\", term=\"Podesvova Lucie\", retmax=100000)\n",
    "record = Entrez.read(handle)\n",
    "len(record[\"IdList\"])"
   ]
  },
  {
   "cell_type": "code",
   "execution_count": 4,
   "metadata": {},
   "outputs": [
    {
     "name": "stdout",
     "output_type": "stream",
     "text": [
      "Getting 10 publications containing Eliáš Marek...\n",
      "Total number of publications containing Eliáš Marek: 55\n",
      "Authors: Alvarez MI, Amaral R, Archibald JM, Arias MC, Avalos J, Baker SE, Ball SG, Barlow LD, Bauer D, Benito EP, Benoit I, Braun EL, Burger G, Butenko A, Camino LP, Canovas D, Cepicka I, Cerda-Olmedo E, Cheng JF, Clark CG, Corrochano LM, Curtis BA, Dacks JB, Derelle R, Dolezal P, Dominguez A, El Karkouri K, Elias M, Eme L, Eslava AP, Field MC, Filatov D, Firsov S, Flegontov P, Flegontova O, Fussy Z, Gabaldon T, Garre V, Gentekaki E, Gerasimov ES, Glaser F, Grigoriev IV, Grimwood J, Gutierrez G, Hampl V, Heitman J, Henrissat B, Herman EK, Herrera-Estrella A, Hilliou F, Hlavacova J, Horwitz BA, Hradilova M, Hrda S, Hroudova M, Idnurm A, Inagaki Y, Ishemgulova A, Iturriaga EA, Jackson AP, Janouskovec J, Karnkowska A, Keeling PJ, Kelly S, Kim E, Klimes V, Klute MJ, Kolisko M, Kostygov AY, Kraeva N, Kuo A, Lang BF, Lavin JL, Lee SC, Li W, Lindquist E, Logacheva MD, Lopez-Garcia S, Lukes J, Luque EM, Malik SB, Marcet-Houben M, Marcos AT, Martin J, Maslov DA, McCluskey K, Medina HR, Miralles-Duran A, Miyazaki A, Munoz-Torres E, Novak L, O'Reilly A, Obornik M, Oguiza JA, Ohm RA, Olmedo M, Opperdoes FR, Orejas M, Ortiz-Castellanos L, Panek T, Petrzelkova R, Pightling AW, Pisabarro AG, Polaino S, Pribyl P, Rachubinski RA, Raoult D, Rodriguez-Romero J, Roger AJ, Ruiz-Herrera J, Ruiz-Vazquez R, Sadlova J, Salamov A, Salas-Leiva DE, Santos LMA, Sanz C, Schackwitz W, Schlacht A, Schmutz J, Sevcikova T, Shahriari M, Shelest E, Silva-Franco F, Soanes D, Soanes DM, Sokol M, Soukal P, Stairs CW, Strnad H, Suga H, Susko E, Syed K, Tagua VG, Talbot NJ, Thon MR, Tice H, Tikhonenkov DV, Torres-Martinez S, Treitli SC, Tsaousis AD, Vacek V, Valach M, Venkatesh D, Villalobos-Escobedo JM, Vlcek C, Volf P, Votypka J, Wiebenga A, Yadav JS, Yazaki E, Yurchenko T, Yurchenko V, Zadrobilkova E, Zahonova K, Zarsky V, Zbrankova V, Zihala D, Zubacova Z, de Vries RP, van der Giezen M\n"
     ]
    }
   ],
   "source": [
    "# coauthor search\n",
    "from Bio import Entrez\n",
    "from Bio import Medline\n",
    "\n",
    "MAX_COUNT = 10\n",
    "TERM = 'Eliáš Marek'\n",
    "\n",
    "print('Getting {0} publications containing {1}...'.format(MAX_COUNT, TERM))\n",
    "Entrez.email = 'A.N.Other@example.com'\n",
    "h = Entrez.esearch(db='pubmed', retmax=MAX_COUNT, term=TERM)\n",
    "result = Entrez.read(h)\n",
    "print('Total number of publications containing {0}: {1}'.format(TERM, result['Count']))\n",
    "ids = result['IdList']\n",
    "h = Entrez.efetch(db='pubmed', id=ids, rettype='medline', retmode='text')\n",
    "records = Medline.parse(h)\n",
    "\n",
    "authors = []\n",
    "for record in records:\n",
    "    au = record.get('AU', '?')\n",
    "    for a in au: \n",
    "        if a not in authors:\n",
    "            authors.append(a)\n",
    "    authors.sort()\n",
    "print('Authors: {0}'.format(', '.join(authors)))"
   ]
  }
 ],
 "metadata": {
  "kernelspec": {
   "display_name": "Python 3",
   "language": "python",
   "name": "python3"
  },
  "language_info": {
   "codemirror_mode": {
    "name": "ipython",
    "version": 3
   },
   "file_extension": ".py",
   "mimetype": "text/x-python",
   "name": "python",
   "nbconvert_exporter": "python",
   "pygments_lexer": "ipython3",
   "version": "3.6.5"
  }
 },
 "nbformat": 4,
 "nbformat_minor": 2
}
