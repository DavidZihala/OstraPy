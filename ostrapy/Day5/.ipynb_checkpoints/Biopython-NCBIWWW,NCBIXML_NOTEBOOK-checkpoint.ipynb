{
 "cells": [
  {
   "cell_type": "markdown",
   "metadata": {},
   "source": [
    "## Blast.NCBIWWW\n",
    "\n",
    "We can use NCBIWWW module for blasting on NCBI server.\n",
    "\n",
    "read more about it: http://biopython.org/DIST/docs/tutorial/Tutorial.html"
   ]
  },
  {
   "cell_type": "code",
   "execution_count": 1,
   "metadata": {},
   "outputs": [],
   "source": [
    "from Bio.Blast import NCBIWWW\n",
    "from Bio import Entrez\n",
    "Entrez.email = \"zihaladavid@gmail.com\"  # Always tell NCBI who you are\n",
    "\n",
    "# our sequence for blasting\n",
    "seq = 'MKKPDLKVVLLGDMNVGKTSLLHRYMERRFQDTVSTVGGAFYLKQWGPYNISI\\\n",
    "WDTAGREQFHGLGSMYCRAASAVILTYDVSNMQSLLELEDRFLGLTDTASDDCIFAVVGNK\\\n",
    "IDLTEDYNSDSDIEGERPRTSSKIRRQVNLEDAFALYKRIMKYKMLDENVVPAAEKMCFET\\\n",
    "SAKTGYNVDVLFEGVFNMVIPLIVKKKASGLDETVNLAQSKPNKSKSRCCK'\n",
    "\n",
    "# it is necessary to specify at least type of blast search and database\n",
    "handle = NCBIWWW.qblast(\"blastp\", \"nr\", sequence=seq)\n",
    "with open(\"my_blast.xml\", \"w\") as res:\n",
    "    res.write(handle.read())"
   ]
  },
  {
   "cell_type": "code",
   "execution_count": null,
   "metadata": {},
   "outputs": [],
   "source": [
    "# similar example as above only with sequence loaded from file\n",
    "from Bio import SeqIO\n",
    "from Bio import Entrez\n",
    "from Bio.Blast import NCBIWWW\n",
    "Entrez.email = \"zihaladavid@gmail.com\"  # Always tell NCBI who you are\n",
    "\n",
    "infile = \"mus_musculus_rab20.fasta\"\n",
    "record = SeqIO.read(infile, format=\"fasta\")\n",
    "handle = NCBIWWW.qblast(\"blastp\", \"refseq_protein\", record.seq)\n",
    "with open(infile.split('.')[0]+ \".xml\", \"w\") as res:\n",
    "    res.write(handle.read())"
   ]
  },
  {
   "cell_type": "code",
   "execution_count": null,
   "metadata": {},
   "outputs": [],
   "source": [
    "# easy way how to blast all sequnces from some file\n",
    "from Bio import SeqIO\n",
    "from Bio.Blast import NCBIWWW\n",
    "\n",
    "def NCBI_blast(seq_record):\n",
    "    net_handle = NCBIWWW.qblast(\"blastp\", \"nr\", sequence=seq_record.seq)\n",
    "    with open (seq_record.name + '_NCBI.xml', 'w') as res:\n",
    "        res.write(net_handle.read())\n",
    "        \n",
    "for record in SeqIO.parse('rab20.fasta', 'fasta'):\n",
    "    NCBI_blast(record)"
   ]
  },
  {
   "cell_type": "markdown",
   "metadata": {},
   "source": [
    "## Blast.NCBIXML\n",
    "\n",
    "One of the most importan modules in Biopython. Thanks to NCBIXML we can easily manipulate with blast results for one or more sequences (thousand, million..)"
   ]
  },
  {
   "cell_type": "code",
   "execution_count": 1,
   "metadata": {},
   "outputs": [],
   "source": [
    "# NCBIXML.read for file with one sequence, for more sequence: NCBIXML.parse\n",
    "from Bio.Blast import NCBIXML\n",
    "\n",
    "# we always need to open our file before parsing\n",
    "blastout = open('my_blast.xml')\n",
    "blast_record = NCBIXML.read(blastout)"
   ]
  },
  {
   "cell_type": "code",
   "execution_count": 3,
   "metadata": {},
   "outputs": [
    {
     "name": "stdout",
     "output_type": "stream",
     "text": [
      "Help on Blast in module Bio.Blast.Record object:\n",
      "\n",
      "class Blast(Header, DatabaseReport, Parameters)\n",
      " |  Saves the results from a blast search.\n",
      " |  \n",
      " |  Members:\n",
      " |  descriptions        A list of Description objects.\n",
      " |  alignments          A list of Alignment objects.\n",
      " |  multiple_alignment  A MultipleAlignment object.\n",
      " |  + members inherited from base classes\n",
      " |  \n",
      " |  Method resolution order:\n",
      " |      Blast\n",
      " |      Header\n",
      " |      DatabaseReport\n",
      " |      Parameters\n",
      " |      builtins.object\n",
      " |  \n",
      " |  Methods defined here:\n",
      " |  \n",
      " |  __init__(self)\n",
      " |      Initialize self.  See help(type(self)) for accurate signature.\n",
      " |  \n",
      " |  ----------------------------------------------------------------------\n",
      " |  Data descriptors inherited from Header:\n",
      " |  \n",
      " |  __dict__\n",
      " |      dictionary for instance variables (if defined)\n",
      " |  \n",
      " |  __weakref__\n",
      " |      list of weak references to the object (if defined)\n",
      "\n"
     ]
    }
   ],
   "source": [
    "help(blast_record)"
   ]
  },
  {
   "cell_type": "code",
   "execution_count": 2,
   "metadata": {},
   "outputs": [
    {
     "data": {
      "text/plain": [
       "50"
      ]
     },
     "execution_count": 2,
     "metadata": {},
     "output_type": "execute_result"
    }
   ],
   "source": [
    "# number of hits\n",
    "len(blast_record.alignments)"
   ]
  },
  {
   "cell_type": "code",
   "execution_count": 5,
   "metadata": {},
   "outputs": [
    {
     "data": {
      "text/plain": [
       "['__class__',\n",
       " '__delattr__',\n",
       " '__dict__',\n",
       " '__dir__',\n",
       " '__doc__',\n",
       " '__eq__',\n",
       " '__format__',\n",
       " '__ge__',\n",
       " '__getattribute__',\n",
       " '__gt__',\n",
       " '__hash__',\n",
       " '__init__',\n",
       " '__init_subclass__',\n",
       " '__le__',\n",
       " '__lt__',\n",
       " '__module__',\n",
       " '__ne__',\n",
       " '__new__',\n",
       " '__reduce__',\n",
       " '__reduce_ex__',\n",
       " '__repr__',\n",
       " '__setattr__',\n",
       " '__sizeof__',\n",
       " '__str__',\n",
       " '__subclasshook__',\n",
       " '__weakref__',\n",
       " 'accession',\n",
       " 'hit_def',\n",
       " 'hit_id',\n",
       " 'hsps',\n",
       " 'length',\n",
       " 'title']"
      ]
     },
     "execution_count": 5,
     "metadata": {},
     "output_type": "execute_result"
    }
   ],
   "source": [
    "# avaible functions and attributes for one blast hit\n",
    "dir(blast_record.alignments[0])"
   ]
  },
  {
   "cell_type": "code",
   "execution_count": 4,
   "metadata": {},
   "outputs": [
    {
     "name": "stdout",
     "output_type": "stream",
     "text": [
      "NP_001086022\n",
      "OCA46054\n",
      "NP_001017295\n",
      "XP_012812505\n",
      "NP_001087734\n",
      "XP_018412509\n",
      "OCT95381\n",
      "OXB60592\n",
      "XP_015706927\n",
      "XP_021270904\n",
      "PIO25014\n",
      "XP_005488078\n",
      "XP_416953\n",
      "XP_003207895\n",
      "XP_006851577\n",
      "XP_005037529\n",
      "XP_005009112\n",
      "XP_006119758\n",
      "XP_010573925\n",
      "XP_002189536\n",
      "XP_008494111\n",
      "XP_015477424\n",
      "XP_014113976\n",
      "XP_021401254\n",
      "OPJ66868\n",
      "KQK78243\n",
      "XP_005145302\n",
      "XP_008634095\n",
      "XP_014738728\n",
      "XP_014799603\n",
      "XP_024061847\n",
      "XP_005238422\n",
      "PKU41047\n",
      "XP_013809485\n",
      "XP_006260526\n",
      "XP_019380939\n",
      "XP_009897010\n",
      "XP_017672819\n",
      "XP_006017293\n",
      "XP_003765785\n",
      "XP_019385208\n",
      "XP_004447077\n",
      "XP_005303042\n",
      "XP_007063971\n",
      "ANG60437\n",
      "XP_005317044\n",
      "XP_003414027\n",
      "XP_009554335\n",
      "XP_007937102\n",
      "XP_005441649\n"
     ]
    }
   ],
   "source": [
    "# hit_id\n",
    "for hit in blast_record.alignments:\n",
    "    print(hit.accession)"
   ]
  },
  {
   "cell_type": "code",
   "execution_count": 7,
   "metadata": {},
   "outputs": [
    {
     "data": {
      "text/plain": [
       "'RAB20, member RAS oncogene family L homeolog [Xenopus laevis] >gi|49119003|gb|AAH73712.1| MGC83654 protein [Xenopus laevis]'"
      ]
     },
     "execution_count": 7,
     "metadata": {},
     "output_type": "execute_result"
    }
   ],
   "source": [
    "# hit_description\n",
    "blast_record.alignments[0].hit_def"
   ]
  },
  {
   "cell_type": "code",
   "execution_count": 8,
   "metadata": {},
   "outputs": [
    {
     "data": {
      "text/plain": [
       "'gi|148232154|ref|NP_001086022.1| RAB20, member RAS oncogene family L homeolog [Xenopus laevis] >gi|49119003|gb|AAH73712.1| MGC83654 protein [Xenopus laevis]'"
      ]
     },
     "execution_count": 8,
     "metadata": {},
     "output_type": "execute_result"
    }
   ],
   "source": [
    "# full hit name\n",
    "blast_record.alignments[0].title"
   ]
  },
  {
   "cell_type": "code",
   "execution_count": 9,
   "metadata": {},
   "outputs": [
    {
     "data": {
      "text/plain": [
       "226"
      ]
     },
     "execution_count": 9,
     "metadata": {},
     "output_type": "execute_result"
    }
   ],
   "source": [
    "# alignment length\n",
    "blast_record.alignments[0].length"
   ]
  },
  {
   "cell_type": "code",
   "execution_count": 10,
   "metadata": {},
   "outputs": [
    {
     "data": {
      "text/plain": [
       "<Bio.Blast.Record.HSP at 0x7f36c004d5c0>"
      ]
     },
     "execution_count": 10,
     "metadata": {},
     "output_type": "execute_result"
    }
   ],
   "source": [
    "# first hsp\n",
    "blast_record.alignments[0].hsps[0]"
   ]
  },
  {
   "cell_type": "code",
   "execution_count": 11,
   "metadata": {},
   "outputs": [
    {
     "data": {
      "text/plain": [
       "['__class__',\n",
       " '__delattr__',\n",
       " '__dict__',\n",
       " '__dir__',\n",
       " '__doc__',\n",
       " '__eq__',\n",
       " '__format__',\n",
       " '__ge__',\n",
       " '__getattribute__',\n",
       " '__gt__',\n",
       " '__hash__',\n",
       " '__init__',\n",
       " '__init_subclass__',\n",
       " '__le__',\n",
       " '__lt__',\n",
       " '__module__',\n",
       " '__ne__',\n",
       " '__new__',\n",
       " '__reduce__',\n",
       " '__reduce_ex__',\n",
       " '__repr__',\n",
       " '__setattr__',\n",
       " '__sizeof__',\n",
       " '__str__',\n",
       " '__subclasshook__',\n",
       " '__weakref__',\n",
       " 'align_length',\n",
       " 'bits',\n",
       " 'expect',\n",
       " 'frame',\n",
       " 'gaps',\n",
       " 'identities',\n",
       " 'match',\n",
       " 'num_alignments',\n",
       " 'positives',\n",
       " 'query',\n",
       " 'query_end',\n",
       " 'query_start',\n",
       " 'sbjct',\n",
       " 'sbjct_end',\n",
       " 'sbjct_start',\n",
       " 'score',\n",
       " 'strand']"
      ]
     },
     "execution_count": 11,
     "metadata": {},
     "output_type": "execute_result"
    }
   ],
   "source": [
    "# avaible functions and attributes for one hsp\n",
    "dir(blast_record.alignments[0].hsps[0])"
   ]
  },
  {
   "cell_type": "code",
   "execution_count": 12,
   "metadata": {},
   "outputs": [
    {
     "data": {
      "text/plain": [
       "1.50693e-168"
      ]
     },
     "execution_count": 12,
     "metadata": {},
     "output_type": "execute_result"
    }
   ],
   "source": [
    "# evalue for first hsp\n",
    "blast_record.alignments[0].hsps[0].expect"
   ]
  },
  {
   "cell_type": "code",
   "execution_count": 13,
   "metadata": {},
   "outputs": [
    {
     "data": {
      "text/plain": [
       "(0, 0)"
      ]
     },
     "execution_count": 13,
     "metadata": {},
     "output_type": "execute_result"
    }
   ],
   "source": [
    "# frames of first hsp\n",
    "blast_record.alignments[0].hsps[0].frame"
   ]
  },
  {
   "cell_type": "code",
   "execution_count": 14,
   "metadata": {},
   "outputs": [
    {
     "data": {
      "text/plain": [
       "1"
      ]
     },
     "execution_count": 14,
     "metadata": {},
     "output_type": "execute_result"
    }
   ],
   "source": [
    "# query start\n",
    "blast_record.alignments[0].hsps[0].query_start"
   ]
  },
  {
   "cell_type": "code",
   "execution_count": 15,
   "metadata": {},
   "outputs": [
    {
     "data": {
      "text/plain": [
       "1"
      ]
     },
     "execution_count": 15,
     "metadata": {},
     "output_type": "execute_result"
    }
   ],
   "source": [
    "# hit start\n",
    "blast_record.alignments[0].hsps[0].sbjct_start"
   ]
  },
  {
   "cell_type": "code",
   "execution_count": 16,
   "metadata": {},
   "outputs": [
    {
     "data": {
      "text/plain": [
       "226"
      ]
     },
     "execution_count": 16,
     "metadata": {},
     "output_type": "execute_result"
    }
   ],
   "source": [
    "# query end\n",
    "blast_record.alignments[0].hsps[0].query_end"
   ]
  },
  {
   "cell_type": "code",
   "execution_count": 17,
   "metadata": {},
   "outputs": [
    {
     "data": {
      "text/plain": [
       "226"
      ]
     },
     "execution_count": 17,
     "metadata": {},
     "output_type": "execute_result"
    }
   ],
   "source": [
    "# hit end\n",
    "blast_record.alignments[0].hsps[0].sbjct_end"
   ]
  },
  {
   "cell_type": "code",
   "execution_count": 18,
   "metadata": {},
   "outputs": [
    {
     "name": "stdout",
     "output_type": "stream",
     "text": [
      "NP_001086022\n",
      "OCA46054\n",
      "NP_001017295\n",
      "XP_012812505\n",
      "NP_001087734\n",
      "XP_018412509\n",
      "OCT95381\n",
      "OXB60592\n",
      "XP_015706927\n",
      "XP_021270904\n",
      "PIO25014\n",
      "XP_005488078\n",
      "XP_416953\n",
      "XP_003207895\n",
      "XP_006851577\n",
      "XP_005037529\n",
      "XP_005009112\n",
      "XP_006119758\n",
      "XP_010573925\n",
      "XP_002189536\n",
      "XP_008494111\n",
      "XP_015477424\n",
      "XP_014113976\n",
      "XP_021401254\n",
      "OPJ66868\n",
      "KQK78243\n",
      "XP_005145302\n",
      "XP_008634095\n",
      "XP_014738728\n",
      "XP_014799603\n",
      "XP_024061847\n",
      "XP_005238422\n",
      "PKU41047\n",
      "XP_013809485\n",
      "XP_006260526\n",
      "XP_019380939\n",
      "XP_009897010\n",
      "XP_017672819\n",
      "XP_006017293\n",
      "XP_003765785\n",
      "XP_019385208\n",
      "XP_004447077\n",
      "XP_005303042\n",
      "XP_007063971\n",
      "ANG60437\n",
      "XP_005317044\n",
      "XP_003414027\n",
      "XP_009554335\n",
      "XP_007937102\n",
      "XP_005441649\n"
     ]
    }
   ],
   "source": [
    "# print acession for all blast hits\n",
    "from Bio.Blast import NCBIXML\n",
    "\n",
    "blastout = open('my_blast.xml')\n",
    "blast_record = NCBIXML.read(blastout)\n",
    "\n",
    "for hit in blast_record.alignments:\n",
    "    print(hit.accession)"
   ]
  },
  {
   "cell_type": "code",
   "execution_count": 19,
   "metadata": {},
   "outputs": [
    {
     "name": "stdout",
     "output_type": "stream",
     "text": [
      "id: NP_001086022\n",
      "evalue:1.50693e-168\n",
      "\n",
      "id: OCA46054\n",
      "evalue:5.54271e-158\n",
      "\n",
      "id: NP_001017295\n",
      "evalue:6.71443e-158\n",
      "\n",
      "id: XP_012812505\n",
      "evalue:6.94334e-157\n",
      "\n",
      "id: NP_001087734\n",
      "evalue:9.68184e-155\n",
      "\n",
      "id: XP_018412509\n",
      "evalue:1.34786e-141\n",
      "\n",
      "id: OCT95381\n",
      "evalue:3.88831e-122\n",
      "\n",
      "id: OXB60592\n",
      "evalue:6.78537e-122\n",
      "\n",
      "id: XP_015706927\n",
      "evalue:7.01215e-122\n",
      "\n",
      "id: XP_021270904\n",
      "evalue:7.57121e-122\n",
      "\n",
      "id: PIO25014\n",
      "evalue:1.27013e-121\n",
      "\n",
      "id: XP_005488078\n",
      "evalue:5.50246e-121\n",
      "\n",
      "id: XP_416953\n",
      "evalue:7.07967e-121\n",
      "\n",
      "id: XP_003207895\n",
      "evalue:2.28673e-120\n",
      "\n",
      "id: XP_006851577\n",
      "evalue:2.77902e-120\n",
      "\n",
      "id: XP_005037529\n",
      "evalue:8.15145e-120\n",
      "\n",
      "id: XP_005009112\n",
      "evalue:1.08383e-119\n",
      "\n",
      "id: XP_006119758\n",
      "evalue:1.27482e-119\n",
      "\n",
      "id: XP_010573925\n",
      "evalue:2.60407e-119\n",
      "\n",
      "id: XP_002189536\n",
      "evalue:3.69767e-119\n",
      "\n",
      "id: XP_008494111\n",
      "evalue:4.12586e-119\n",
      "\n",
      "id: XP_015477424\n",
      "evalue:4.80988e-119\n",
      "\n",
      "id: XP_014113976\n",
      "evalue:5.92306e-119\n",
      "\n",
      "id: XP_021401254\n",
      "evalue:7.70461e-119\n",
      "\n",
      "id: OPJ66868\n",
      "evalue:1.08209e-118\n",
      "\n",
      "id: KQK78243\n",
      "evalue:1.08209e-118\n",
      "\n",
      "id: XP_005145302\n",
      "evalue:1.22069e-118\n",
      "\n",
      "id: XP_008634095\n",
      "evalue:1.24774e-118\n",
      "\n",
      "id: XP_014738728\n",
      "evalue:1.3472e-118\n",
      "\n",
      "id: XP_014799603\n",
      "evalue:1.36205e-118\n",
      "\n",
      "id: XP_024061847\n",
      "evalue:1.4014e-118\n",
      "\n",
      "id: XP_005238422\n",
      "evalue:1.5032e-118\n",
      "\n",
      "id: PKU41047\n",
      "evalue:1.77172e-118\n",
      "\n",
      "id: XP_013809485\n",
      "evalue:2.97752e-118\n",
      "\n",
      "id: XP_006260526\n",
      "evalue:3.97671e-118\n",
      "\n",
      "id: XP_019380939\n",
      "evalue:8.75184e-118\n",
      "\n",
      "id: XP_009897010\n",
      "evalue:8.77228e-118\n",
      "\n",
      "id: XP_017672819\n",
      "evalue:1.71145e-117\n",
      "\n",
      "id: XP_006017293\n",
      "evalue:1.92606e-117\n",
      "\n",
      "id: XP_003765785\n",
      "evalue:3.70078e-117\n",
      "\n",
      "id: XP_019385208\n",
      "evalue:4.10166e-117\n",
      "\n",
      "id: XP_004447077\n",
      "evalue:5.39391e-117\n",
      "\n",
      "id: XP_005303042\n",
      "evalue:7.00122e-117\n",
      "\n",
      "id: XP_007063971\n",
      "evalue:8.34254e-117\n",
      "\n",
      "id: ANG60437\n",
      "evalue:1.41443e-116\n",
      "\n",
      "id: XP_005317044\n",
      "evalue:1.88054e-116\n",
      "\n",
      "id: XP_003414027\n",
      "evalue:1.88446e-116\n",
      "\n",
      "id: XP_009554335\n",
      "evalue:2.16258e-116\n",
      "\n",
      "id: XP_007937102\n",
      "evalue:4.23003e-116\n",
      "\n",
      "id: XP_005441649\n",
      "evalue:5.95514e-116\n",
      "\n"
     ]
    }
   ],
   "source": [
    "# print acession and evalue for all hits in a format: id': id; 'evalue': evalue\n",
    "from Bio.Blast import NCBIXML\n",
    "\n",
    "blastout = open('my_blast.xml')\n",
    "blast_record = NCBIXML.read(blastout)\n",
    "\n",
    "for aln in blast_record.alignments:\n",
    "    for hsp in aln.hsps:\n",
    "        print('id: {}\\nevalue:{}\\n'.format(aln.accession, hsp.expect))"
   ]
  }
 ],
 "metadata": {
  "kernelspec": {
   "display_name": "Python 3",
   "language": "python",
   "name": "python3"
  },
  "language_info": {
   "codemirror_mode": {
    "name": "ipython",
    "version": 3
   },
   "file_extension": ".py",
   "mimetype": "text/x-python",
   "name": "python",
   "nbconvert_exporter": "python",
   "pygments_lexer": "ipython3",
   "version": "3.6.5"
  }
 },
 "nbformat": 4,
 "nbformat_minor": 2
}
