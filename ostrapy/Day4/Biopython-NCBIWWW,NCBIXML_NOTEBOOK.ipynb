{
 "cells": [
  {
   "cell_type": "markdown",
   "metadata": {},
   "source": [
    "## Blast.NCBIWWW\n",
    "\n",
    "We can use NCBIWWW module for blasting on NCBI server.\n",
    "\n",
    "read more about it: http://biopython.org/DIST/docs/tutorial/Tutorial.html"
   ]
  },
  {
   "cell_type": "code",
   "execution_count": 1,
   "metadata": {},
   "outputs": [],
   "source": [
    "from Bio.Blast import NCBIWWW\n",
    "from Bio import Entrez\n",
    "Entrez.email = \"zihaladavid@gmail.com\"  # Always tell NCBI who you are\n",
    "\n",
    "# our sequence for blasting\n",
    "seq = 'MKKPDLKVVLLGDMNVGKTSLLHRYMERRFQDTVSTVGGAFYLKQWGPYNISI\\\n",
    "WDTAGREQFHGLGSMYCRAASAVILTYDVSNMQSLLELEDRFLGLTDTASDDCIFAVVGNK\\\n",
    "IDLTEDYNSDSDIEGERPRTSSKIRRQVNLEDAFALYKRIMKYKMLDENVVPAAEKMCFET\\\n",
    "SAKTGYNVDVLFEGVFNMVIPLIVKKKASGLDETVNLAQSKPNKSKSRCCK'\n",
    "\n",
    "# it is necessary to specify at least type of blast search and database\n",
    "handle = NCBIWWW.qblast(\"blastp\", \"nr\", sequence=seq)\n",
    "\n",
    "with open(\"my_blast.xml\", \"w\") as res:\n",
    "    res.write(handle.read())"
   ]
  },
  {
   "cell_type": "code",
   "execution_count": null,
   "metadata": {},
   "outputs": [],
   "source": [
    "# similar example as above only with sequence loaded from file\n",
    "from Bio import SeqIO\n",
    "from Bio import Entrez\n",
    "from Bio.Blast import NCBIWWW\n",
    "Entrez.email = \"zihaladavid@gmail.com\"  # Always tell NCBI who you are\n",
    "\n",
    "infile = \"xenopus_tropicalis_rab20.fasta\"\n",
    "record = SeqIO.read(infile, format=\"fasta\")\n",
    "\n",
    "handle = NCBIWWW.qblast(\"blastp\", \"refseq_protein\", record.seq)\n",
    "with open(infile.split('.')[0]+ \".xml\", \"w\") as res:\n",
    "    res.write(handle.read())"
   ]
  },
  {
   "cell_type": "code",
   "execution_count": null,
   "metadata": {},
   "outputs": [],
   "source": [
    "\"xenopus_tropicalis_rab20.fasta\".split('.')[0] + '.new_suffix'"
   ]
  },
  {
   "cell_type": "code",
   "execution_count": null,
   "metadata": {},
   "outputs": [],
   "source": [
    "# easy way how to blast all sequnces from some file\n",
    "from Bio import SeqIO\n",
    "from Bio.Blast import NCBIWWW\n",
    "\n",
    "def ncbi_blast(seq_record):\n",
    "    net_handle = NCBIWWW.qblast(\"blastp\", \"nr\", sequence=seq_record.seq)\n",
    "    with open (seq_record.name + '_NCBI.xml', 'w') as res:\n",
    "        res.write(net_handle.read())\n",
    "        \n",
    "for record in SeqIO.parse('rab20.fasta', 'fasta'):\n",
    "    ncbi_blast(record)"
   ]
  },
  {
   "cell_type": "markdown",
   "metadata": {},
   "source": [
    "## Blast.NCBIXML\n",
    "\n",
    "One of the most importan modules in Biopython. Thanks to NCBIXML we can easily manipulate with blast results for one or more sequences (thousand, million..)"
   ]
  },
  {
   "cell_type": "code",
   "execution_count": 2,
   "metadata": {},
   "outputs": [],
   "source": [
    "# NCBIXML.read for file with one sequence, for more sequence: NCBIXML.parse\n",
    "from Bio.Blast import NCBIXML\n",
    "\n",
    "# we always need to open our file before parsing\n",
    "blastout = open('my_blast.xml')\n",
    "blast_record = NCBIXML.read(blastout)"
   ]
  },
  {
   "cell_type": "code",
   "execution_count": 5,
   "metadata": {},
   "outputs": [
    {
     "data": {
      "text/plain": [
       "list"
      ]
     },
     "execution_count": 5,
     "metadata": {},
     "output_type": "execute_result"
    }
   ],
   "source": [
    "type(blast_record.alignments)"
   ]
  },
  {
   "cell_type": "code",
   "execution_count": 6,
   "metadata": {},
   "outputs": [
    {
     "data": {
      "text/plain": [
       "50"
      ]
     },
     "execution_count": 6,
     "metadata": {},
     "output_type": "execute_result"
    }
   ],
   "source": [
    "len(blast_record.alignments)"
   ]
  },
  {
   "cell_type": "code",
   "execution_count": null,
   "metadata": {},
   "outputs": [],
   "source": [
    "# number of hits\n",
    "len(blast_record.alignments)"
   ]
  },
  {
   "cell_type": "code",
   "execution_count": null,
   "metadata": {},
   "outputs": [],
   "source": [
    "type(blast_record.alignments)"
   ]
  },
  {
   "cell_type": "code",
   "execution_count": 8,
   "metadata": {},
   "outputs": [],
   "source": [
    "x = blast_record.alignments[0]"
   ]
  },
  {
   "cell_type": "code",
   "execution_count": 15,
   "metadata": {},
   "outputs": [],
   "source": [
    "hsp = x.hsps[0]"
   ]
  },
  {
   "cell_type": "code",
   "execution_count": 18,
   "metadata": {},
   "outputs": [
    {
     "name": "stdout",
     "output_type": "stream",
     "text": [
      "NP_001086022\n",
      "KAE8625801\n",
      "NP_001017295\n",
      "XP_012812505\n",
      "NP_001087734\n",
      "XP_018412509\n",
      "OCT95381\n",
      "OXB60592\n",
      "XP_015706927\n",
      "XP_021270904\n",
      "XP_031469632\n",
      "PIO25014\n",
      "XP_005488078\n",
      "XP_025892446\n",
      "XP_416953\n",
      "XP_025958235\n",
      "XP_003207895\n",
      "XP_006851577\n",
      "XP_005037529\n",
      "XP_005009112\n",
      "XP_006119758\n",
      "XP_026704633\n",
      "XP_030057422\n",
      "XP_010573925\n",
      "XP_029854645\n",
      "XP_030333060\n",
      "XP_030301690\n",
      "XP_015477424\n",
      "XP_014113976\n",
      "XP_021401254\n",
      "KQK78243\n",
      "OPJ66868\n",
      "XP_002189536\n",
      "XP_005145302\n",
      "XP_008634095\n",
      "XP_014738728\n",
      "XP_014799603\n",
      "XP_024061847\n",
      "XP_005238422\n",
      "XP_030090882\n",
      "PKU41047\n",
      "TFK09376\n",
      "XP_030424400\n",
      "XP_030818029\n",
      "XP_013809485\n",
      "XP_006260526\n",
      "TRZ13445\n",
      "XP_027495600\n",
      "XP_019380939\n",
      "XP_009897010\n"
     ]
    }
   ],
   "source": [
    "# hit_id\n",
    "for hit in blast_record.alignments:\n",
    "    print(hit.accession)"
   ]
  },
  {
   "cell_type": "code",
   "execution_count": null,
   "metadata": {},
   "outputs": [],
   "source": [
    "# hit_description\n",
    "blast_record.alignments[0].hit_def"
   ]
  },
  {
   "cell_type": "code",
   "execution_count": null,
   "metadata": {},
   "outputs": [],
   "source": [
    "# full hit name\n",
    "blast_record.alignments[0].title"
   ]
  },
  {
   "cell_type": "code",
   "execution_count": null,
   "metadata": {},
   "outputs": [],
   "source": [
    "# alignment length\n",
    "blast_record.alignments[0].length"
   ]
  },
  {
   "cell_type": "code",
   "execution_count": null,
   "metadata": {},
   "outputs": [],
   "source": [
    "# first hsp\n",
    "blast_record.alignments[0].hsps[0]"
   ]
  },
  {
   "cell_type": "code",
   "execution_count": null,
   "metadata": {},
   "outputs": [],
   "source": [
    "# avaible functions and attributes for one hsp\n",
    "dir(blast_record.alignments[0].hsps[0])"
   ]
  },
  {
   "cell_type": "code",
   "execution_count": null,
   "metadata": {},
   "outputs": [],
   "source": [
    "# evalue for first hsp\n",
    "blast_record.alignments[0].hsps[0].expect"
   ]
  },
  {
   "cell_type": "code",
   "execution_count": null,
   "metadata": {},
   "outputs": [],
   "source": [
    "# frames of first hsp\n",
    "blast_record.alignments[0].hsps[0].frame"
   ]
  },
  {
   "cell_type": "code",
   "execution_count": null,
   "metadata": {},
   "outputs": [],
   "source": [
    "# query start\n",
    "blast_record.alignments[0].hsps[0].query_start"
   ]
  },
  {
   "cell_type": "code",
   "execution_count": null,
   "metadata": {},
   "outputs": [],
   "source": [
    "# hit start\n",
    "blast_record.alignments[0].hsps[0].sbjct_start"
   ]
  },
  {
   "cell_type": "code",
   "execution_count": null,
   "metadata": {},
   "outputs": [],
   "source": [
    "# query end\n",
    "blast_record.alignments[0].hsps[0].query_end"
   ]
  },
  {
   "cell_type": "code",
   "execution_count": null,
   "metadata": {},
   "outputs": [],
   "source": [
    "# hit end\n",
    "blast_record.alignments[0].hsps[0].sbjct_end"
   ]
  },
  {
   "cell_type": "code",
   "execution_count": null,
   "metadata": {},
   "outputs": [],
   "source": [
    "# print acession for all blast hits\n",
    "from Bio.Blast import NCBIXML\n",
    "\n",
    "blastout = open('multiple.xml')\n",
    "blast_records = NCBIXML.parse(blastout)\n",
    "\n",
    "for record in blast_records:\n",
    "    for aln in record.alignments:\n",
    "        for hsp in aln.hsps:\n",
    "            print(f'id: {aln.accession}\\nevalue:{hsp.expect}\\n')"
   ]
  },
  {
   "cell_type": "code",
   "execution_count": null,
   "metadata": {},
   "outputs": [],
   "source": [
    "type(blast_records)"
   ]
  },
  {
   "cell_type": "code",
   "execution_count": null,
   "metadata": {},
   "outputs": [],
   "source": [
    "# print acession and evalue for all hits in a format: id': id; 'evalue': evalue\n",
    "from Bio.Blast import NCBIXML\n",
    "\n",
    "blastout = open('my_blast.xml')\n",
    "blast_record = NCBIXML.read(blastout)\n",
    "\n",
    "for aln in blast_record.alignments:\n",
    "    for hsp in aln.hsps:\n",
    "        print(f'id: {aln.accession}\\nevalue:{hsp.expect}\\n')"
   ]
  },
  {
   "cell_type": "code",
   "execution_count": null,
   "metadata": {},
   "outputs": [],
   "source": []
  }
 ],
 "metadata": {
  "kernelspec": {
   "display_name": "Python 3",
   "language": "python",
   "name": "python3"
  },
  "language_info": {
   "codemirror_mode": {
    "name": "ipython",
    "version": 3
   },
   "file_extension": ".py",
   "mimetype": "text/x-python",
   "name": "python",
   "nbconvert_exporter": "python",
   "pygments_lexer": "ipython3",
   "version": "3.7.3"
  }
 },
 "nbformat": 4,
 "nbformat_minor": 4
}
