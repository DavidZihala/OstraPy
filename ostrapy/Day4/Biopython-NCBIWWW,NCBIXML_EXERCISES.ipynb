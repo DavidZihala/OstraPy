{
 "cells": [
  {
   "cell_type": "markdown",
   "metadata": {},
   "source": [
    "**1:Load xenopus_tropicalis_rab20.fasta with SeqIO.read to your script. Use NCBIWWW.qblast for blasting it against refseq_protein database. Save blast result to a file name xenopus_tropicalis_rab20.xml**"
   ]
  },
  {
   "cell_type": "markdown",
   "metadata": {},
   "source": [
    "**2:  Use NCBIXML.read to read your xenopus_tropicalis_rab20.xml. Print all hit accessions.**"
   ]
  },
  {
   "cell_type": "markdown",
   "metadata": {},
   "source": [
    "**3: Use NCBIXML.read to read your xenopus_tropicalis_rab20.xml. Print all hit accessions with evalue.**"
   ]
  }
 ],
 "metadata": {
  "kernelspec": {
   "display_name": "Python 3",
   "language": "python",
   "name": "python3"
  },
  "language_info": {
   "codemirror_mode": {
    "name": "ipython",
    "version": 3
   },
   "file_extension": ".py",
   "mimetype": "text/x-python",
   "name": "python",
   "nbconvert_exporter": "python",
   "pygments_lexer": "ipython3",
   "version": "3.7.3"
  }
 },
 "nbformat": 4,
 "nbformat_minor": 4
}
