{
 "cells": [
  {
   "cell_type": "markdown",
   "metadata": {},
   "source": [
    "**1: Print name for every sequence in rab20.fasta.**"
   ]
  },
  {
   "cell_type": "code",
   "execution_count": null,
   "metadata": {},
   "outputs": [],
   "source": [
    "from Bio import SeqIO\n",
    "\n",
    "for record in SeqIO.parse('rab20.fasta', 'fasta'):\n",
    "    print(record.name)"
   ]
  },
  {
   "cell_type": "markdown",
   "metadata": {},
   "source": [
    "**2: Print sequence for every sequence in rab20.fasta.**"
   ]
  },
  {
   "cell_type": "code",
   "execution_count": null,
   "metadata": {},
   "outputs": [],
   "source": [
    "from Bio import SeqIO\n",
    "\n",
    "for record in SeqIO.parse('rab20.fasta', 'fasta'):\n",
    "    print(record.seq)"
   ]
  },
  {
   "cell_type": "markdown",
   "metadata": {},
   "source": [
    "**3: Write name for every sequence in rab20_ncbi.fasta to a file named result_names.txt. One name per line.**"
   ]
  },
  {
   "cell_type": "code",
   "execution_count": null,
   "metadata": {},
   "outputs": [],
   "source": [
    "from Bio import SeqIO\n",
    "\n",
    "with open('result_names', 'w') as result:\n",
    "    for record in SeqIO.parse('rab20_ncbi.fasta', 'fasta'):\n",
    "        result.write(record.name + '\\n')"
   ]
  },
  {
   "cell_type": "markdown",
   "metadata": {},
   "source": [
    "**4: How many sequences from rab20_ncbi.fasta (100 sequences) are longer than 230 aa? Put their IDs into list and print that list.** "
   ]
  },
  {
   "cell_type": "code",
   "execution_count": null,
   "metadata": {},
   "outputs": [],
   "source": [
    "from Bio import SeqIO\n",
    "\n",
    "result_list = []\n",
    "for record in SeqIO.parse('rab20_ncbi.fasta', 'fasta'):\n",
    "    if len(record.seq) > 230:\n",
    "        result_list.append(record.id)\n",
    "        \n",
    "print(len(result_list))"
   ]
  },
  {
   "cell_type": "code",
   "execution_count": null,
   "metadata": {},
   "outputs": [],
   "source": [
    "# or this\n",
    "from Bio import SeqIO\n",
    "print(len([record.id for record in SeqIO.parse(\n",
    "    'rab20_ncbi.fasta', 'fasta')if len(record.seq) > 230]))"
   ]
  },
  {
   "cell_type": "markdown",
   "metadata": {},
   "source": [
    "**5: Prepare sequence dictionary and use full names as keys. There is no need for to_dict function.**"
   ]
  },
  {
   "cell_type": "code",
   "execution_count": null,
   "metadata": {},
   "outputs": [],
   "source": [
    "from Bio import SeqIO\n",
    "\n",
    "sequence_dict = {}\n",
    "\n",
    "for sequence in SeqIO.parse('rab20_ncbi.fasta', 'fasta'):\n",
    "    sequence_dict[sequence.desciption] = sequence.seq"
   ]
  }
 ],
 "metadata": {
  "kernelspec": {
   "display_name": "Python 3",
   "language": "python",
   "name": "python3"
  },
  "language_info": {
   "codemirror_mode": {
    "name": "ipython",
    "version": 3
   },
   "file_extension": ".py",
   "mimetype": "text/x-python",
   "name": "python",
   "nbconvert_exporter": "python",
   "pygments_lexer": "ipython3",
   "version": "3.7.3"
  }
 },
 "nbformat": 4,
 "nbformat_minor": 4
}
