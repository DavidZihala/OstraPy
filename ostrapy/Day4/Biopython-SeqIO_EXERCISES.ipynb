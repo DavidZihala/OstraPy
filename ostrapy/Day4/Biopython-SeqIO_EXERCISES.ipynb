{
 "cells": [
  {
   "cell_type": "markdown",
   "metadata": {},
   "source": [
    "**1: Print name for every sequence in rab20.fasta.**"
   ]
  },
  {
   "cell_type": "markdown",
   "metadata": {},
   "source": [
    "**2: Print sequence for every sequence in rab20.fasta.**"
   ]
  },
  {
   "cell_type": "markdown",
   "metadata": {},
   "source": [
    "**3: Write name for every sequence in rab20_ncbi.fasta to a file named result_names.txt. One name per line.**"
   ]
  },
  {
   "cell_type": "markdown",
   "metadata": {},
   "source": [
    "**4: How many sequences from rab20_ncbi.fasta (100 sequences) are longer than 230 aa? Put their IDs into list and print that list.** "
   ]
  },
  {
   "cell_type": "code",
   "execution_count": 1,
   "metadata": {},
   "outputs": [
    {
     "name": "stdout",
     "output_type": "stream",
     "text": [
      "76\n"
     ]
    }
   ],
   "source": [
    "from Bio import SeqIO\n",
    "\n",
    "n = 0\n",
    "for record in SeqIO.parse('rab20_ncbi.fasta', 'fasta'):\n",
    "    if len(record.seq) > 230:\n",
    "        n += 1\n",
    "print(n)"
   ]
  },
  {
   "cell_type": "markdown",
   "metadata": {},
   "source": [
    "**5: Prepare sequence dictionary and use full names as keys. There is no need for to_dict function.**"
   ]
  },
  {
   "cell_type": "code",
   "execution_count": 5,
   "metadata": {},
   "outputs": [],
   "source": [
    "my_dict = {}\n",
    "\n",
    "for record in SeqIO.parse('rab20_ncbi.fasta', 'fasta'):\n",
    "    my_dict[record.id] = str(record.seq) "
   ]
  },
  {
   "cell_type": "code",
   "execution_count": 6,
   "metadata": {},
   "outputs": [
    {
     "data": {
      "text/plain": [
       "'MRKPDGKIVLLGDMNVGKTSLLQRYMERRFPDTVSTVGGAFYLKQWRSFNISIWDTAGREQFHGLGSLYCRGAAAIILTYDVNHPQSLFELEDRFLGLTETANNDCLFAIVGNKVDLTSERDTEGGEKEGPASGKVGSCVSTKVPKQVQPEDAVALYKKILKYKMLDEREMPAAEQMCFETSAKTGYNVDLLFETLFDLVVPMIMRQRAEESDQTVDIASCKTPKQTRSGCCA'"
      ]
     },
     "execution_count": 6,
     "metadata": {},
     "output_type": "execute_result"
    }
   ],
   "source": [
    "my_dict['NP_035357.1']"
   ]
  },
  {
   "cell_type": "code",
   "execution_count": null,
   "metadata": {},
   "outputs": [],
   "source": []
  }
 ],
 "metadata": {
  "kernelspec": {
   "display_name": "Python 3",
   "language": "python",
   "name": "python3"
  },
  "language_info": {
   "codemirror_mode": {
    "name": "ipython",
    "version": 3
   },
   "file_extension": ".py",
   "mimetype": "text/x-python",
   "name": "python",
   "nbconvert_exporter": "python",
   "pygments_lexer": "ipython3",
   "version": "3.7.3"
  }
 },
 "nbformat": 4,
 "nbformat_minor": 4
}
