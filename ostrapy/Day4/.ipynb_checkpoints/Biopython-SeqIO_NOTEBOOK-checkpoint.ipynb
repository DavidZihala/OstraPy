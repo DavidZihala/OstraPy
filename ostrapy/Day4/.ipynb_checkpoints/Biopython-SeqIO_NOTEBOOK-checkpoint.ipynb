{
 "cells": [
  {
   "cell_type": "markdown",
   "metadata": {},
   "source": [
    "# Biopython - Python tools for Computational Molecular Biology\n",
    "\n",
    "More information: http://biopython.org/wiki/SeqIO"
   ]
  },
  {
   "cell_type": "markdown",
   "metadata": {},
   "source": [
    "## SeqIO  - Sequence Input/Output\n",
    "\n",
    "More information: http://biopython.org/wiki/SeqIO"
   ]
  },
  {
   "cell_type": "markdown",
   "metadata": {},
   "source": [
    "### Basic usage of SeqIO"
   ]
  },
  {
   "cell_type": "code",
   "execution_count": null,
   "metadata": {},
   "outputs": [],
   "source": [
    "from Bio import SeqIO\n",
    "\n",
    "# SeqIO.read only for files with one sequence\n",
    "record = SeqIO.read('one_seq_prot.fasta', 'fasta')"
   ]
  },
  {
   "cell_type": "code",
   "execution_count": null,
   "metadata": {},
   "outputs": [],
   "source": [
    "type(record)"
   ]
  },
  {
   "cell_type": "code",
   "execution_count": null,
   "metadata": {},
   "outputs": [],
   "source": [
    "# print all avaible methods and attributes for selected object\n",
    "dir(record)"
   ]
  },
  {
   "cell_type": "code",
   "execution_count": null,
   "metadata": {},
   "outputs": [],
   "source": [
    "print(record)"
   ]
  },
  {
   "cell_type": "code",
   "execution_count": null,
   "metadata": {},
   "outputs": [],
   "source": [
    "record.id"
   ]
  },
  {
   "cell_type": "code",
   "execution_count": null,
   "metadata": {},
   "outputs": [],
   "source": [
    "record.seq"
   ]
  },
  {
   "cell_type": "code",
   "execution_count": null,
   "metadata": {},
   "outputs": [],
   "source": [
    "print(record.seq)"
   ]
  },
  {
   "cell_type": "code",
   "execution_count": null,
   "metadata": {},
   "outputs": [],
   "source": [
    "record.description"
   ]
  },
  {
   "cell_type": "code",
   "execution_count": null,
   "metadata": {},
   "outputs": [],
   "source": [
    "record = SeqIO.read('one_seq_nucl.fasta', 'fasta')"
   ]
  },
  {
   "cell_type": "code",
   "execution_count": null,
   "metadata": {},
   "outputs": [],
   "source": [
    "print(record.seq)"
   ]
  },
  {
   "cell_type": "code",
   "execution_count": null,
   "metadata": {},
   "outputs": [],
   "source": [
    "# method for reverse complement strand\n",
    "print(str(record.reverse_complement()))"
   ]
  },
  {
   "cell_type": "code",
   "execution_count": null,
   "metadata": {},
   "outputs": [],
   "source": [
    "# SeqIO.parse if for files with more than one sequence\n",
    "records = SeqIO.parse('rab20.fasta', 'fasta')"
   ]
  },
  {
   "cell_type": "code",
   "execution_count": null,
   "metadata": {},
   "outputs": [],
   "source": [
    "# print all objects\n",
    "for record in records:\n",
    "    print(record)"
   ]
  },
  {
   "cell_type": "code",
   "execution_count": null,
   "metadata": {},
   "outputs": [],
   "source": [
    "# prints all IDs. nothing happend. why?\n",
    "for record in records:\n",
    "    print(record.id)\n",
    "\n",
    "# you need to load your data again! Object records object is a generator!!    "
   ]
  },
  {
   "cell_type": "code",
   "execution_count": null,
   "metadata": {},
   "outputs": [],
   "source": [
    "records = SeqIO.parse('rab20.fasta', 'fasta')\n",
    "for record in records:\n",
    "    print(record.id)"
   ]
  },
  {
   "cell_type": "code",
   "execution_count": null,
   "metadata": {},
   "outputs": [],
   "source": [
    "# we can use next to work only with one sequence\n",
    "record = next(records)"
   ]
  },
  {
   "cell_type": "code",
   "execution_count": null,
   "metadata": {},
   "outputs": [],
   "source": [
    "record.description"
   ]
  },
  {
   "cell_type": "code",
   "execution_count": null,
   "metadata": {},
   "outputs": [],
   "source": [
    "records = SeqIO.parse('rab20.fasta', 'fasta')\n",
    "record = list(records)[0]"
   ]
  },
  {
   "cell_type": "code",
   "execution_count": null,
   "metadata": {},
   "outputs": [],
   "source": [
    "# SeqIO.to_dict parse our fasta as a dictionary in a format: ID: sequence\n",
    "from Bio import SeqIO\n",
    "record_dict = SeqIO.to_dict(SeqIO.parse('rab20.fasta', 'fasta'))"
   ]
  },
  {
   "cell_type": "code",
   "execution_count": null,
   "metadata": {},
   "outputs": [],
   "source": [
    "# making dictionary from fasta file without SeqIO.to_dict\n",
    "record_dict = {}\n",
    "for record in SeqIO.parse('rab20.fasta', 'fasta'):\n",
    "    record_dict[record.id] = record.seq"
   ]
  },
  {
   "cell_type": "code",
   "execution_count": null,
   "metadata": {},
   "outputs": [],
   "source": [
    "record_dict['NP_001086022.1']"
   ]
  },
  {
   "cell_type": "code",
   "execution_count": null,
   "metadata": {},
   "outputs": [],
   "source": [
    "record_dict['NP_001086022.1'].seq"
   ]
  },
  {
   "cell_type": "code",
   "execution_count": 5,
   "metadata": {},
   "outputs": [],
   "source": [
    "with open('test_out.fasta', 'w') as res:\n",
    "    for record in SeqIO.parse(\"rab20.fasta\", 'fasta'):\n",
    "        res.write(f'>{record.id}\\n{record.seq}\\n')"
   ]
  },
  {
   "cell_type": "code",
   "execution_count": 2,
   "metadata": {},
   "outputs": [],
   "source": [
    "# we can also use SeqIO.write but we can not manipulate out output so much now\n",
    "from Bio import SeqIO\n",
    "sequences = SeqIO.parse('rab20.fasta', 'fasta')\n",
    "\n",
    "with open(\"test_out.fasta\", 'w') as res:\n",
    "    SeqIO.write(sequences, res, 'fasta')"
   ]
  },
  {
   "cell_type": "code",
   "execution_count": null,
   "metadata": {},
   "outputs": [],
   "source": [
    "# this simple code will write as a result only those sequence which are longer than 230 amino acids\n",
    "sequences = SeqIO.parse('rab20_ncbi.fasta', 'fasta')\n",
    "\n",
    "with open(\"longer_than_230.fasta\", 'w') as res:\n",
    "    for record in sequences:\n",
    "        if len(record.seq) > 230:\n",
    "            res.write('>{} longer than 230 \\n{}\\n'.format(record.name, record.seq))            "
   ]
  },
  {
   "cell_type": "code",
   "execution_count": null,
   "metadata": {},
   "outputs": [],
   "source": [
    "# we can use SeqIO also for format conversion\n",
    "from Bio import SeqIO\n",
    "SeqIO.convert(\"cor6_6.gb\", \"genbank\", \"cor6_6.fasta\", \"fasta\")"
   ]
  }
 ],
 "metadata": {
  "kernelspec": {
   "display_name": "Python 3",
   "language": "python",
   "name": "python3"
  },
  "language_info": {
   "codemirror_mode": {
    "name": "ipython",
    "version": 3
   },
   "file_extension": ".py",
   "mimetype": "text/x-python",
   "name": "python",
   "nbconvert_exporter": "python",
   "pygments_lexer": "ipython3",
   "version": "3.7.3"
  }
 },
 "nbformat": 4,
 "nbformat_minor": 4
}
