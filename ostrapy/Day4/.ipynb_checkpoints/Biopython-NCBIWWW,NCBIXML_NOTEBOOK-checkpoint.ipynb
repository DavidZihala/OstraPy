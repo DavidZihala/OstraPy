{
 "cells": [
  {
   "cell_type": "markdown",
   "metadata": {},
   "source": [
    "## Blast.NCBIWWW\n",
    "\n",
    "We can use NCBIWWW module for blasting on NCBI server.\n",
    "\n",
    "read more about it: http://biopython.org/DIST/docs/tutorial/Tutorial.html"
   ]
  },
  {
   "cell_type": "code",
   "execution_count": null,
   "metadata": {},
   "outputs": [],
   "source": [
    "from Bio.Blast import NCBIWWW\n",
    "from Bio import Entrez\n",
    "Entrez.email = \"zihaladavid@gmail.com\"  # Always tell NCBI who you are\n",
    "\n",
    "# our sequence for blasting\n",
    "seq = 'MKKPDLKVVLLGDMNVGKTSLLHRYMERRFQDTVSTVGGAFYLKQWGPYNISI\\\n",
    "WDTAGREQFHGLGSMYCRAASAVILTYDVSNMQSLLELEDRFLGLTDTASDDCIFAVVGNK\\\n",
    "IDLTEDYNSDSDIEGERPRTSSKIRRQVNLEDAFALYKRIMKYKMLDENVVPAAEKMCFET\\\n",
    "SAKTGYNVDVLFEGVFNMVIPLIVKKKASGLDETVNLAQSKPNKSKSRCCK'\n",
    "\n",
    "# it is necessary to specify at least type of blast search and database\n",
    "handle = NCBIWWW.qblast(\"blastp\", \"nr\", sequence=seq)\n",
    "\n",
    "# res = open(\"my_blast.xml\", \"w\")\n",
    "# res.write(handle.read())\n",
    "# res.close()\n",
    "\n",
    "with open(\"my_blast.xml\", \"w\") as res:\n",
    "    res.write(handle.read())"
   ]
  },
  {
   "cell_type": "code",
   "execution_count": null,
   "metadata": {},
   "outputs": [],
   "source": [
    "# similar example as above only with sequence loaded from file\n",
    "from Bio import SeqIO\n",
    "from Bio import Entrez\n",
    "from Bio.Blast import NCBIWWW\n",
    "Entrez.email = \"zihaladavid@gmail.com\"  # Always tell NCBI who you are\n",
    "\n",
    "infile = \"xenopus_tropicalis_rab20.fasta\"\n",
    "record = SeqIO.read(infile, format=\"fasta\")\n",
    "\n",
    "handle = NCBIWWW.qblast(\"blastp\", \"refseq_protein\", record.seq)\n",
    "with open(infile.split('.')[0]+ \".xml\", \"w\") as res:\n",
    "    res.write(handle.read())"
   ]
  },
  {
   "cell_type": "code",
   "execution_count": null,
   "metadata": {},
   "outputs": [],
   "source": [
    "\"xenopus_tropicalis_rab20.fasta\".split('.')[0] + '.new_suffix'"
   ]
  },
  {
   "cell_type": "code",
   "execution_count": null,
   "metadata": {},
   "outputs": [],
   "source": [
    "# easy way how to blast all sequnces from some file\n",
    "from Bio import SeqIO\n",
    "from Bio.Blast import NCBIWWW\n",
    "\n",
    "def ncbi_blast(seq_record):\n",
    "    net_handle = NCBIWWW.qblast(\"blastp\", \"nr\", sequence=seq_record.seq)\n",
    "    with open (seq_record.name + '_NCBI.xml', 'w') as res:\n",
    "        res.write(net_handle.read())\n",
    "        \n",
    "for record in SeqIO.parse('rab20.fasta', 'fasta'):\n",
    "    ncbi_blast(record)"
   ]
  },
  {
   "cell_type": "markdown",
   "metadata": {},
   "source": [
    "## Blast.NCBIXML\n",
    "\n",
    "One of the most importan modules in Biopython. Thanks to NCBIXML we can easily manipulate with blast results for one or more sequences (thousand, million..)"
   ]
  },
  {
   "cell_type": "code",
   "execution_count": null,
   "metadata": {},
   "outputs": [],
   "source": [
    "# NCBIXML.read for file with one sequence, for more sequence: NCBIXML.parse\n",
    "from Bio.Blast import NCBIXML\n",
    "\n",
    "# we always need to open our file before parsing\n",
    "blastout = open('my_blast.xml')\n",
    "blast_record = NCBIXML.read(blastout)"
   ]
  },
  {
   "cell_type": "code",
   "execution_count": null,
   "metadata": {},
   "outputs": [],
   "source": [
    "help(blast_record)"
   ]
  },
  {
   "cell_type": "code",
   "execution_count": null,
   "metadata": {},
   "outputs": [],
   "source": [
    "blast_record."
   ]
  },
  {
   "cell_type": "code",
   "execution_count": null,
   "metadata": {},
   "outputs": [],
   "source": [
    "# number of hits\n",
    "len(blast_record.alignments)"
   ]
  },
  {
   "cell_type": "code",
   "execution_count": null,
   "metadata": {},
   "outputs": [],
   "source": [
    "type(blast_record.alignments)"
   ]
  },
  {
   "cell_type": "code",
   "execution_count": null,
   "metadata": {},
   "outputs": [],
   "source": [
    "# avaible functions and attributes for one blast hit\n",
    "dir(blast_record.alignments[0])"
   ]
  },
  {
   "cell_type": "code",
   "execution_count": null,
   "metadata": {},
   "outputs": [],
   "source": [
    "# hit_id\n",
    "for hit in blast_record.alignments:\n",
    "    print(hit.accession)"
   ]
  },
  {
   "cell_type": "code",
   "execution_count": null,
   "metadata": {},
   "outputs": [],
   "source": [
    "# hit_description\n",
    "blast_record.alignments[0].hit_def"
   ]
  },
  {
   "cell_type": "code",
   "execution_count": null,
   "metadata": {},
   "outputs": [],
   "source": [
    "# full hit name\n",
    "blast_record.alignments[0].title"
   ]
  },
  {
   "cell_type": "code",
   "execution_count": null,
   "metadata": {},
   "outputs": [],
   "source": [
    "# alignment length\n",
    "blast_record.alignments[0].length"
   ]
  },
  {
   "cell_type": "code",
   "execution_count": null,
   "metadata": {},
   "outputs": [],
   "source": [
    "# first hsp\n",
    "blast_record.alignments[0].hsps[0]"
   ]
  },
  {
   "cell_type": "code",
   "execution_count": null,
   "metadata": {},
   "outputs": [],
   "source": [
    "# avaible functions and attributes for one hsp\n",
    "dir(blast_record.alignments[0].hsps[0])"
   ]
  },
  {
   "cell_type": "code",
   "execution_count": null,
   "metadata": {},
   "outputs": [],
   "source": [
    "# evalue for first hsp\n",
    "blast_record.alignments[0].hsps[0].expect"
   ]
  },
  {
   "cell_type": "code",
   "execution_count": null,
   "metadata": {},
   "outputs": [],
   "source": [
    "# frames of first hsp\n",
    "blast_record.alignments[0].hsps[0].frame"
   ]
  },
  {
   "cell_type": "code",
   "execution_count": null,
   "metadata": {},
   "outputs": [],
   "source": [
    "# query start\n",
    "blast_record.alignments[0].hsps[0].query_start"
   ]
  },
  {
   "cell_type": "code",
   "execution_count": null,
   "metadata": {},
   "outputs": [],
   "source": [
    "# hit start\n",
    "blast_record.alignments[0].hsps[0].sbjct_start"
   ]
  },
  {
   "cell_type": "code",
   "execution_count": null,
   "metadata": {},
   "outputs": [],
   "source": [
    "# query end\n",
    "blast_record.alignments[0].hsps[0].query_end"
   ]
  },
  {
   "cell_type": "code",
   "execution_count": null,
   "metadata": {},
   "outputs": [],
   "source": [
    "# hit end\n",
    "blast_record.alignments[0].hsps[0].sbjct_end"
   ]
  },
  {
   "cell_type": "code",
   "execution_count": null,
   "metadata": {},
   "outputs": [],
   "source": [
    "# print acession for all blast hits\n",
    "from Bio.Blast import NCBIXML\n",
    "\n",
    "blastout = open('multiple.xml')\n",
    "blast_records = NCBIXML.parse(blastout)\n",
    "\n",
    "for record in blast_records:\n",
    "    for aln in record.alignments:\n",
    "        for hsp in aln.hsps:\n",
    "            print(f'id: {aln.accession}\\nevalue:{hsp.expect}\\n')"
   ]
  },
  {
   "cell_type": "code",
   "execution_count": null,
   "metadata": {},
   "outputs": [],
   "source": [
    "type(blast_records)"
   ]
  },
  {
   "cell_type": "code",
   "execution_count": null,
   "metadata": {},
   "outputs": [],
   "source": [
    "# print acession and evalue for all hits in a format: id': id; 'evalue': evalue\n",
    "from Bio.Blast import NCBIXML\n",
    "\n",
    "blastout = open('my_blast.xml')\n",
    "blast_record = NCBIXML.read(blastout)\n",
    "\n",
    "for aln in blast_record.alignments:\n",
    "    for hsp in aln.hsps:\n",
    "        print(f'id: {aln.accession}\\nevalue:{hsp.expect}\\n')"
   ]
  },
  {
   "cell_type": "code",
   "execution_count": null,
   "metadata": {},
   "outputs": [],
   "source": []
  }
 ],
 "metadata": {
  "kernelspec": {
   "display_name": "Python 3",
   "language": "python",
   "name": "python3"
  },
  "language_info": {
   "codemirror_mode": {
    "name": "ipython",
    "version": 3
   },
   "file_extension": ".py",
   "mimetype": "text/x-python",
   "name": "python",
   "nbconvert_exporter": "python",
   "pygments_lexer": "ipython3",
   "version": "3.7.3"
  }
 },
 "nbformat": 4,
 "nbformat_minor": 4
}
