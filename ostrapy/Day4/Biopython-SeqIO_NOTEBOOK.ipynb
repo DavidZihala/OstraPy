{
 "cells": [
  {
   "cell_type": "markdown",
   "metadata": {},
   "source": [
    "# Biopython - Python tools for Computational Molecular Biology\n",
    "\n",
    "More information: http://biopython.org/wiki/SeqIO"
   ]
  },
  {
   "cell_type": "markdown",
   "metadata": {},
   "source": [
    "## SeqIO  - Sequence Input/Output\n",
    "\n",
    "More information: http://biopython.org/wiki/SeqIO"
   ]
  },
  {
   "cell_type": "markdown",
   "metadata": {},
   "source": [
    "### Basic usage of SeqIO"
   ]
  },
  {
   "cell_type": "code",
   "execution_count": 38,
   "metadata": {},
   "outputs": [],
   "source": [
    "from Bio import SeqIO\n",
    "\n",
    "# SeqIO.read only for files with one sequence\n",
    "record = SeqIO.read('one_seq_prot.fasta', 'fasta')"
   ]
  },
  {
   "cell_type": "code",
   "execution_count": null,
   "metadata": {},
   "outputs": [],
   "source": [
    "type(record)"
   ]
  },
  {
   "cell_type": "code",
   "execution_count": null,
   "metadata": {},
   "outputs": [],
   "source": [
    "record.name"
   ]
  },
  {
   "cell_type": "code",
   "execution_count": null,
   "metadata": {},
   "outputs": [],
   "source": [
    "print(record.seq)"
   ]
  },
  {
   "cell_type": "code",
   "execution_count": null,
   "metadata": {},
   "outputs": [],
   "source": [
    "# print all avaible methods and attributes for selected object\n",
    "dir(record)"
   ]
  },
  {
   "cell_type": "code",
   "execution_count": null,
   "metadata": {},
   "outputs": [],
   "source": [
    "print(record)"
   ]
  },
  {
   "cell_type": "code",
   "execution_count": null,
   "metadata": {},
   "outputs": [],
   "source": [
    "record.id"
   ]
  },
  {
   "cell_type": "code",
   "execution_count": null,
   "metadata": {},
   "outputs": [],
   "source": [
    "record.seq"
   ]
  },
  {
   "cell_type": "code",
   "execution_count": null,
   "metadata": {},
   "outputs": [],
   "source": [
    "print(record.seq)"
   ]
  },
  {
   "cell_type": "code",
   "execution_count": null,
   "metadata": {},
   "outputs": [],
   "source": [
    "record.description"
   ]
  },
  {
   "cell_type": "code",
   "execution_count": null,
   "metadata": {},
   "outputs": [],
   "source": [
    "record = SeqIO.read('one_seq_nucl.fasta', 'fasta')"
   ]
  },
  {
   "cell_type": "code",
   "execution_count": null,
   "metadata": {},
   "outputs": [],
   "source": [
    "print(record.seq)"
   ]
  },
  {
   "cell_type": "code",
   "execution_count": null,
   "metadata": {},
   "outputs": [],
   "source": [
    "# method for reverse complement strand\n",
    "print(record.reverse_complement().seq)"
   ]
  },
  {
   "cell_type": "code",
   "execution_count": 44,
   "metadata": {},
   "outputs": [],
   "source": [
    "# SeqIO.parse if for files with more than one sequence\n",
    "records = "
   ]
  },
  {
   "cell_type": "code",
   "execution_count": 51,
   "metadata": {},
   "outputs": [
    {
     "name": "stdout",
     "output_type": "stream",
     "text": [
      "NP_001086022.1\n",
      "XP_005792157.1\n",
      "NP_035357.1\n",
      "NP_060287.1\n",
      "NP_001017295.1\n"
     ]
    }
   ],
   "source": [
    "for record in SeqIO.parse('rab20.fasta', 'fasta'):\n",
    "    print(record.id)"
   ]
  },
  {
   "cell_type": "code",
   "execution_count": 45,
   "metadata": {},
   "outputs": [
    {
     "data": {
      "text/plain": [
       "generator"
      ]
     },
     "execution_count": 45,
     "metadata": {},
     "output_type": "execute_result"
    }
   ],
   "source": [
    "type(records)"
   ]
  },
  {
   "cell_type": "code",
   "execution_count": null,
   "metadata": {},
   "outputs": [],
   "source": [
    "filtered = []\n",
    "for record in SeqIO.parse('rab20_ncbi.fasta', 'fasta'):\n",
    "    if len(record.seq) > 220:\n",
    "        filtered.append((record.id, len(record.seq)))\n",
    "#         print(record.id, len(record.seq))"
   ]
  },
  {
   "cell_type": "code",
   "execution_count": 41,
   "metadata": {},
   "outputs": [],
   "source": [
    "with open('filtered.fasta', 'w') as res:\n",
    "    for record in SeqIO.parse('rab20_ncbi.fasta', 'fasta'):\n",
    "        if len(record.seq) > 220:\n",
    "            res.write(f'>{record.id}\\t{len(record.seq)}\\n{record.seq}\\n')"
   ]
  },
  {
   "cell_type": "code",
   "execution_count": null,
   "metadata": {},
   "outputs": [],
   "source": [
    "records = SeqIO.parse('rab20.fasta', 'fasta')"
   ]
  },
  {
   "cell_type": "code",
   "execution_count": null,
   "metadata": {},
   "outputs": [],
   "source": [
    "next(records)"
   ]
  },
  {
   "cell_type": "code",
   "execution_count": null,
   "metadata": {},
   "outputs": [],
   "source": [
    "records = SeqIO.parse('rab20.fasta', 'fasta')\n",
    "for record in records:\n",
    "    print(record.id)"
   ]
  },
  {
   "cell_type": "code",
   "execution_count": null,
   "metadata": {},
   "outputs": [],
   "source": [
    "# we can use next to work only with one sequence\n",
    "record = next(records)"
   ]
  },
  {
   "cell_type": "code",
   "execution_count": null,
   "metadata": {},
   "outputs": [],
   "source": [
    "record.description"
   ]
  },
  {
   "cell_type": "code",
   "execution_count": null,
   "metadata": {},
   "outputs": [],
   "source": [
    "records = SeqIO.parse('rab20.fasta', 'fasta')\n",
    "record = list(records)[0]"
   ]
  },
  {
   "cell_type": "code",
   "execution_count": null,
   "metadata": {},
   "outputs": [],
   "source": [
    "# SeqIO.to_dict parse our fasta as a dictionary in a format: ID: sequence\n",
    "from Bio import SeqIO\n",
    "record_dict = SeqIO.to_dict(SeqIO.parse('rab20.fasta', 'fasta'))"
   ]
  },
  {
   "cell_type": "code",
   "execution_count": null,
   "metadata": {},
   "outputs": [],
   "source": [
    "# making dictionary from fasta file without SeqIO.to_dict\n",
    "record_dict = {}\n",
    "for record in SeqIO.parse('rab20.fasta', 'fasta'):\n",
    "    record_dict[record.id] = record.seq"
   ]
  },
  {
   "cell_type": "code",
   "execution_count": null,
   "metadata": {},
   "outputs": [],
   "source": [
    "record_dict['NP_001086022.1']"
   ]
  },
  {
   "cell_type": "code",
   "execution_count": null,
   "metadata": {},
   "outputs": [],
   "source": [
    "record_dict['NP_001086022.1'].seq"
   ]
  },
  {
   "cell_type": "code",
   "execution_count": null,
   "metadata": {},
   "outputs": [],
   "source": [
    "with open('test_out.fasta', 'w') as res:\n",
    "    for record in SeqIO.parse(\"rab20.fasta\", 'fasta'):\n",
    "        res.write(f'>{record.id}\\n{record.seq}\\n')"
   ]
  },
  {
   "cell_type": "code",
   "execution_count": null,
   "metadata": {},
   "outputs": [],
   "source": [
    "# this simple code will write as a result only those sequence which are longer than 230 amino acids\n",
    "sequences = SeqIO.parse('rab20_ncbi.fasta', 'fasta')\n",
    "\n",
    "with open(\"longer_than_230.fasta\", 'w') as res:\n",
    "    for record in sequences:\n",
    "        if len(record.seq) > 230:\n",
    "            res.write('>{} longer than 230 \\n{}\\n'.format(record.name, record.seq))            "
   ]
  },
  {
   "cell_type": "code",
   "execution_count": 43,
   "metadata": {},
   "outputs": [
    {
     "data": {
      "text/plain": [
       "1"
      ]
     },
     "execution_count": 43,
     "metadata": {},
     "output_type": "execute_result"
    }
   ],
   "source": [
    "# we can use SeqIO also for format conversion\n",
    "from Bio import SeqIO\n",
    "SeqIO.convert(\"NP_035357.1.gb\", \"genbank\", \"NP_035357.1.fasta\", \"fasta\")"
   ]
  },
  {
   "cell_type": "code",
   "execution_count": null,
   "metadata": {},
   "outputs": [],
   "source": []
  }
 ],
 "metadata": {
  "kernelspec": {
   "display_name": "Python 3",
   "language": "python",
   "name": "python3"
  },
  "language_info": {
   "codemirror_mode": {
    "name": "ipython",
    "version": 3
   },
   "file_extension": ".py",
   "mimetype": "text/x-python",
   "name": "python",
   "nbconvert_exporter": "python",
   "pygments_lexer": "ipython3",
   "version": "3.7.3"
  }
 },
 "nbformat": 4,
 "nbformat_minor": 4
}
