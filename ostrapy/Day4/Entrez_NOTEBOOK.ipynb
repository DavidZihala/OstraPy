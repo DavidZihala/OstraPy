{
 "cells": [
  {
   "cell_type": "markdown",
   "metadata": {},
   "source": [
    "## Entrez package\n",
    "\n",
    "Thanks to Entrez package we can comunnicate with Entrez databases.\n",
    "( https://www.ncbi.nlm.nih.gov/Class/MLACourse/Original8Hour/Entrez/ ) "
   ]
  },
  {
   "cell_type": "code",
   "execution_count": 3,
   "metadata": {},
   "outputs": [],
   "source": [
    "# protein search based on protein ID. result in gb format\n",
    "from Bio import Entrez\n",
    "from Bio import SeqIO\n",
    "Entrez.email = \"zihaladavid@gmail.com\"\n",
    "\n",
    "def get_protein(protein_id):\n",
    "    net_handle = Entrez.efetch(db=\"protein\", id=protein_id, rettype=\"gb\", retmode=\"text\")\n",
    "    with open(protein_id + '.gb', \"w\") as out_handle:\n",
    "        out_handle.write(net_handle.read())\n",
    "    net_handle.close()"
   ]
  },
  {
   "cell_type": "code",
   "execution_count": 4,
   "metadata": {},
   "outputs": [],
   "source": [
    "for record in SeqIO.parse('rab20.fasta', 'fasta'):\n",
    "    get_protein(record.id)"
   ]
  },
  {
   "cell_type": "code",
   "execution_count": null,
   "metadata": {},
   "outputs": [],
   "source": [
    "handle = open(protein_id + '.gb', mode=\"r\")\n",
    "protein_record = SeqIO.read(handle, \"genbank\")"
   ]
  },
  {
   "cell_type": "code",
   "execution_count": null,
   "metadata": {},
   "outputs": [],
   "source": [
    "x = protein_record.features[0]"
   ]
  },
  {
   "cell_type": "code",
   "execution_count": null,
   "metadata": {},
   "outputs": [],
   "source": [
    "x.qualifiers['organism']"
   ]
  },
  {
   "cell_type": "code",
   "execution_count": null,
   "metadata": {},
   "outputs": [],
   "source": [
    "x = ''\n",
    "for feature in protein_record.features:\n",
    "    if feature.type == 'CDS':\n",
    "        print(feature.qualifiers['db_xref'])"
   ]
  },
  {
   "cell_type": "code",
   "execution_count": 5,
   "metadata": {},
   "outputs": [
    {
     "name": "stdout",
     "output_type": "stream",
     "text": [
      "gene id: 19332\n"
     ]
    }
   ],
   "source": [
    "# gene search base on ID of its corresponding protein products\n",
    "import os\n",
    "from Bio import Entrez\n",
    "from Bio import SeqIO\n",
    "\n",
    "Entrez.email = \"zihaladavid@gmail.com\"  # Always tell NCBI who you are\n",
    "\n",
    "def read_protein(protein_id):\n",
    "    filename = protein_id\n",
    "    if not os.path.isfile(filename): #if protein record is not in your folder\n",
    "        net_handle = Entrez.efetch(db=\"protein\", id=protein_id, rettype=\"gb\", retmode=\"text\")\n",
    "        out_handle = open(filename, \"w\")\n",
    "        out_handle.write(net_handle.read())\n",
    "        out_handle.close()\n",
    "        net_handle.close()\n",
    "    handle = open(filename, mode=\"r\")\n",
    "    protein_record = SeqIO.read(handle, \"genbank\")\n",
    "    return protein_record\n",
    "\n",
    "def get_gene_id(protein_record):\n",
    "    for feature in protein_record.features:\n",
    "        if feature.type == \"CDS\":\n",
    "            for item in feature.qualifiers[\"db_xref\"]:\n",
    "                if 'GeneID' in item:\n",
    "                    return((item.split(':'))[1])\n",
    "                \n",
    "protein_record = read_protein('NP_035357.1')\n",
    "gene_id = get_gene_id(protein_record)\n",
    "print('gene id:', gene_id)"
   ]
  },
  {
   "cell_type": "code",
   "execution_count": 6,
   "metadata": {},
   "outputs": [
    {
     "data": {
      "text/plain": [
       "4"
      ]
     },
     "execution_count": 6,
     "metadata": {},
     "output_type": "execute_result"
    }
   ],
   "source": [
    "# number of publications for given author\n",
    "from Bio import Entrez\n",
    "Entrez.email = \"A.N.Other@example.com\"     # Always tell NCBI who you are\n",
    "handle = Entrez.esearch(db=\"pubmed\", term=\"David Žihala\", retmax=100000)\n",
    "record = Entrez.read(handle)\n",
    "len(record[\"IdList\"])"
   ]
  },
  {
   "cell_type": "code",
   "execution_count": 9,
   "metadata": {},
   "outputs": [
    {
     "name": "stdout",
     "output_type": "stream",
     "text": [
      "Getting 20 publications containing Žihala David...\n",
      "Total number of publications containing Žihala David: 4\n",
      "Authors: Barlow LD, Bates PA, Becvar T, Brzon O, Butenko A, Cepicka I, Dacks JB, Derelle R, Elias M, Eme L, Hampl V, Herman EK, Hradilova M, Karnkowska A, Kleschenko Y, Klimes V, Kostygov AY, Lukes J, Macedo DH, Novak L, Opperdoes FR, Panek T, Petrzelkova R, Pipaliya SV, Podesvova L, Roger AJ, Sadlova J, Sokol M, Soukal P, Stairs CW, Susko E, Treitli SC, Vacek V, Volf P, Yurchenko V, Zadrobilkova E, Zihala D\n"
     ]
    }
   ],
   "source": [
    "# coauthor search\n",
    "from Bio import Entrez\n",
    "from Bio import Medline\n",
    "\n",
    "MAX_COUNT = 20\n",
    "TERM = 'Žihala David'\n",
    "\n",
    "print('Getting {0} publications containing {1}...'.format(MAX_COUNT, TERM))\n",
    "Entrez.email = 'A.N.Other@example.com'\n",
    "h = Entrez.esearch(db='pubmed', retmax=MAX_COUNT, term=TERM)\n",
    "result = Entrez.read(h)\n",
    "print('Total number of publications containing {0}: {1}'.format(TERM, result['Count']))\n",
    "ids = result['IdList']\n",
    "h = Entrez.efetch(db='pubmed', id=ids, rettype='medline', retmode='text')\n",
    "records = Medline.parse(h)\n",
    "\n",
    "authors = []\n",
    "for record in records:\n",
    "    au = record.get('AU', '?')\n",
    "    for a in au: \n",
    "        if a not in authors:\n",
    "            authors.append(a)\n",
    "    authors.sort()\n",
    "print('Authors: {0}'.format(', '.join(authors)))"
   ]
  },
  {
   "cell_type": "code",
   "execution_count": null,
   "metadata": {},
   "outputs": [],
   "source": []
  }
 ],
 "metadata": {
  "kernelspec": {
   "display_name": "Python 3",
   "language": "python",
   "name": "python3"
  },
  "language_info": {
   "codemirror_mode": {
    "name": "ipython",
    "version": 3
   },
   "file_extension": ".py",
   "mimetype": "text/x-python",
   "name": "python",
   "nbconvert_exporter": "python",
   "pygments_lexer": "ipython3",
   "version": "3.7.3"
  }
 },
 "nbformat": 4,
 "nbformat_minor": 4
}
