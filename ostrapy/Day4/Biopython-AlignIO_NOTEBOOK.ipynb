{
 "cells": [
  {
   "cell_type": "markdown",
   "metadata": {},
   "source": [
    "## AlignIO - The module for multiple sequence alignments\n",
    "\n",
    "read more about AlignIO:\n",
    "http://biopython.org/wiki/AlignIO"
   ]
  },
  {
   "cell_type": "code",
   "execution_count": 1,
   "metadata": {},
   "outputs": [],
   "source": [
    "from Bio import AlignIO\n",
    "\n",
    "# read alignments (analogy with SeqIO)\n",
    "alignment = AlignIO.read('rab20_ncbi.aln', 'fasta')"
   ]
  },
  {
   "cell_type": "code",
   "execution_count": 2,
   "metadata": {},
   "outputs": [
    {
     "data": {
      "text/plain": [
       "Bio.Align.MultipleSeqAlignment"
      ]
     },
     "execution_count": 2,
     "metadata": {},
     "output_type": "execute_result"
    }
   ],
   "source": [
    "type(alignment)"
   ]
  },
  {
   "cell_type": "code",
   "execution_count": 3,
   "metadata": {},
   "outputs": [
    {
     "data": {
      "text/plain": [
       "402"
      ]
     },
     "execution_count": 3,
     "metadata": {},
     "output_type": "execute_result"
    }
   ],
   "source": [
    "# alignment length\n",
    "alignment.get_alignment_length()"
   ]
  },
  {
   "cell_type": "code",
   "execution_count": null,
   "metadata": {
    "collapsed": true,
    "jupyter": {
     "outputs_hidden": true
    }
   },
   "outputs": [],
   "source": [
    "# print type of the selected object\n",
    "type(alignment)"
   ]
  },
  {
   "cell_type": "code",
   "execution_count": 4,
   "metadata": {},
   "outputs": [],
   "source": [
    "# slicing first six sequences from position 79 to 89\n",
    "my_new_little_friend = alignment[:6, 80:90]"
   ]
  },
  {
   "cell_type": "code",
   "execution_count": 5,
   "metadata": {},
   "outputs": [
    {
     "name": "stdout",
     "output_type": "stream",
     "text": [
      "SingleLetterAlphabet() alignment with 6 rows and 10 columns\n",
      "PDLKVVLLGD NP_001086022.1\n",
      "PDLKLVLLGD NP_001017295.1\n",
      "PDLKLVLLGD XP_012812509.1\n",
      "PDLKLVLLGD XP_012812508.1\n",
      "PDLKLVLLGD XP_012812507.1\n",
      "PDLKLVLLGD XP_012812505.1\n"
     ]
    }
   ],
   "source": [
    "print(my_new_little_friend)"
   ]
  },
  {
   "cell_type": "code",
   "execution_count": 6,
   "metadata": {},
   "outputs": [
    {
     "name": "stdout",
     "output_type": "stream",
     "text": [
      "-----M\n"
     ]
    }
   ],
   "source": [
    "# first column for first 6 sequences\n",
    "print(alignment[:6, 0])"
   ]
  },
  {
   "cell_type": "code",
   "execution_count": 7,
   "metadata": {},
   "outputs": [
    {
     "data": {
      "text/plain": [
       "'PPPPPPPPPPPPPPPPPPPPPPPPPPPPPPPPPPPPPPPPPPPPPPPPPPPPPPPPPPPPPPPPPP-PPPPPPPPPPPPPP-PPPPPPPPPPPPPPPPPV'"
      ]
     },
     "execution_count": 7,
     "metadata": {},
     "output_type": "execute_result"
    }
   ],
   "source": [
    "# 80. column for all sequences\n",
    "alignment[:,80]"
   ]
  },
  {
   "cell_type": "code",
   "execution_count": 8,
   "metadata": {},
   "outputs": [
    {
     "name": "stdout",
     "output_type": "stream",
     "text": [
      "SingleLetterAlphabet() alignment with 3 rows and 397 columns\n",
      "--------------------------------------------...--- NP_001086022.1\n",
      "--------------------------------------------...--- NP_001017295.1\n",
      "--------------------------------------------...--- XP_012812509.1\n"
     ]
    }
   ],
   "source": [
    "# first 3 sequences from 5. line\n",
    "print(alignment[:3, 5:])"
   ]
  },
  {
   "cell_type": "code",
   "execution_count": 9,
   "metadata": {},
   "outputs": [],
   "source": [
    "# making list from alignments object\n",
    "x = list(alignment)"
   ]
  },
  {
   "cell_type": "code",
   "execution_count": 10,
   "metadata": {},
   "outputs": [
    {
     "data": {
      "text/plain": [
       "SeqRecord(seq=Seq('------------------------------------------------------...---', SingleLetterAlphabet()), id='NP_001086022.1', name='NP_001086022.1', description='NP_001086022.1 RAB20, member RAS oncogene family L homeolog [Xenopus laevis]', dbxrefs=[])"
      ]
     },
     "execution_count": 10,
     "metadata": {},
     "output_type": "execute_result"
    }
   ],
   "source": [
    "# first SeqRecord from list\n",
    "# první SeqRecord z listu\n",
    "x[0]"
   ]
  },
  {
   "cell_type": "code",
   "execution_count": 11,
   "metadata": {},
   "outputs": [
    {
     "name": "stdout",
     "output_type": "stream",
     "text": [
      "-----------------------------------------------------------------------------MKKPDLKVVLLGDMNVGKTSLLHRYMERRFQDTVSTVGGAFYLKQ----WGPYNISIWDTAGREQFHGLGSMYCRAASAVILTYDVSNMQSLLELEDRFL-GLTDTASDDCIFAVVGNKIDLTEDYNSDSDIEG--------------ERP-------------------RTS------S------KIRRQVNLEDAFALYKRIMKYKMLDENVVPAAEKMCFETSAKTGYNVDVLFEGVFNMVIPLIVKKKASGL-DETVNLAQSKPN--K-SKSRCCK---------------------------------------------\n"
     ]
    }
   ],
   "source": [
    "# sequence of first SeqRecord from list\n",
    "print(x[0].seq)"
   ]
  },
  {
   "cell_type": "code",
   "execution_count": 12,
   "metadata": {
    "scrolled": true
   },
   "outputs": [
    {
     "name": "stdout",
     "output_type": "stream",
     "text": [
      "column number:  100 [('R', 100)]\n",
      "column number:  101 [('Y', 100)]\n",
      "column number:  102 [('M', 94), ('T', 4), ('I', 1)]\n",
      "column number:  103 [('E', 98), ('D', 1), ('Y', 1)]\n",
      "column number:  104 [('R', 96), ('K', 3), ('N', 1)]\n",
      "column number:  105 [('R', 81), ('K', 18), ('T', 1)]\n",
      "column number:  106 [('F', 100)]\n",
      "column number:  107 [('P', 41), ('Q', 32), ('K', 17)]\n",
      "column number:  108 [('D', 80), ('E', 19), ('G', 1)]\n",
      "column number:  109 [('T', 98), ('A', 1), ('S', 1)]\n"
     ]
    }
   ],
   "source": [
    "# prints three most abundant amino acids from position 100-109\n",
    "from collections import Counter\n",
    "\n",
    "for i in range(100,110):\n",
    "    counter = Counter(list(alignment[:, i]))\n",
    "    print(\"column number: \", i, counter.most_common(3))"
   ]
  },
  {
   "cell_type": "code",
   "execution_count": null,
   "metadata": {
    "collapsed": true,
    "jupyter": {
     "outputs_hidden": true
    }
   },
   "outputs": [],
   "source": [
    "# Using AlingIO to convert alignment from one format to another\n",
    "\n",
    "from Bio import AlignIO\n",
    "\n",
    "input_handle = open(\"rab20_ncbi.sth\", \"r\")\n",
    "output_handle = open(\"rab20_ncbi.phy\", \"w\")\n",
    "\n",
    "alignment = AlignIO.parse(input_handle, \"stockholm\")\n",
    "AlignIO.write(alignment, output_handle, \"phylip-relaxed\")\n",
    "\n",
    "output_handle.close()\n",
    "input_handle.close()"
   ]
  },
  {
   "cell_type": "code",
   "execution_count": 13,
   "metadata": {},
   "outputs": [
    {
     "name": "stdout",
     "output_type": "stream",
     "text": [
      "0.27\n"
     ]
    }
   ],
   "source": [
    "# Easy way how to count how many positions are conserved\n",
    "# in more than 95% of sequences\n",
    "from collections import Counter\n",
    "from Bio import AlignIO\n",
    "import pandas as pd\n",
    "\n",
    "alignment = AlignIO.read('rab20_ncbi.aln', 'fasta')\n",
    "aln_length = alignment.get_alignment_length()\n",
    "\n",
    "total = 0\n",
    "for i in range(aln_length):\n",
    "    counted = dict(Counter(alignment[:, i]))\n",
    "    counted_series = pd.Series(counted)\n",
    "    if (counted_series.max()/len(alignment) > 0.95) and (counted_series.idxmax() != '-'):\n",
    "        #print(i+1, alignment[:,i] + '\\n')\n",
    "        total += 1\n",
    "print(round(total/aln_length, 2))"
   ]
  },
  {
   "cell_type": "code",
   "execution_count": null,
   "metadata": {},
   "outputs": [],
   "source": []
  }
 ],
 "metadata": {
  "kernelspec": {
   "display_name": "Python 3",
   "language": "python",
   "name": "python3"
  },
  "language_info": {
   "codemirror_mode": {
    "name": "ipython",
    "version": 3
   },
   "file_extension": ".py",
   "mimetype": "text/x-python",
   "name": "python",
   "nbconvert_exporter": "python",
   "pygments_lexer": "ipython3",
   "version": "3.7.3"
  }
 },
 "nbformat": 4,
 "nbformat_minor": 4
}
