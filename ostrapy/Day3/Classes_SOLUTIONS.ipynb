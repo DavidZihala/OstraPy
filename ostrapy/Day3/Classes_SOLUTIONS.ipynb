{
 "cells": [
  {
   "cell_type": "markdown",
   "metadata": {},
   "source": [
    "**1: Prepare simple class only with one attribute - name (use __init__ function) and use this class for creating new instance.**"
   ]
  },
  {
   "cell_type": "code",
   "execution_count": 4,
   "metadata": {},
   "outputs": [
    {
     "data": {
      "text/plain": [
       "'Python'"
      ]
     },
     "execution_count": 4,
     "metadata": {},
     "output_type": "execute_result"
    }
   ],
   "source": [
    "class Simple:\n",
    "    def __init__(self, name):\n",
    "        self.name = name\n",
    "        \n",
    "x = Simple('Python')\n",
    "x.name"
   ]
  },
  {
   "cell_type": "markdown",
   "metadata": {},
   "source": [
    "**2: Prepare class named Sequence and give it attributes: name and sequence and method GC content.**"
   ]
  },
  {
   "cell_type": "code",
   "execution_count": 2,
   "metadata": {},
   "outputs": [
    {
     "data": {
      "text/plain": [
       "0.5"
      ]
     },
     "execution_count": 2,
     "metadata": {},
     "output_type": "execute_result"
    }
   ],
   "source": [
    "class Sequence:\n",
    "    def __init__(self, name, sequence):\n",
    "        self.name = name\n",
    "        self.seq = sequence\n",
    "        \n",
    "    def gc_content(self):\n",
    "        G = self.seq.count('G')\n",
    "        C = self.seq.count('C')\n",
    "        return (G+C)/len(self.seq)\n",
    "    \n",
    "my_dna = Sequence('test_dna', 'AATTCCGGGATC')\n",
    "my_dna.gc_content()"
   ]
  },
  {
   "cell_type": "markdown",
   "metadata": {},
   "source": [
    "**3: Create a subclass of the Sequence class named RNA with a method which checks if first codon is 'ATG' and return True/False value.**"
   ]
  },
  {
   "cell_type": "code",
   "execution_count": 8,
   "metadata": {},
   "outputs": [
    {
     "data": {
      "text/plain": [
       "True"
      ]
     },
     "execution_count": 8,
     "metadata": {},
     "output_type": "execute_result"
    }
   ],
   "source": [
    "class RNA(Sequence):\n",
    "    def start_codon(self):\n",
    "        if self.seq.startswith('ATG'):\n",
    "            return True\n",
    "        else:\n",
    "            return False\n",
    "rna = RNA('test_rna','ATGGAGCTTAGCTA')\n",
    "rna.start_codon()"
   ]
  }
 ],
 "metadata": {
  "kernelspec": {
   "display_name": "Python 3",
   "language": "python",
   "name": "python3"
  },
  "language_info": {
   "codemirror_mode": {
    "name": "ipython",
    "version": 3
   },
   "file_extension": ".py",
   "mimetype": "text/x-python",
   "name": "python",
   "nbconvert_exporter": "python",
   "pygments_lexer": "ipython3",
   "version": "3.7.3"
  }
 },
 "nbformat": 4,
 "nbformat_minor": 4
}
