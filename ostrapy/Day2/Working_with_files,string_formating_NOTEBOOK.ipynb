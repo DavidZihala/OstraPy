{
 "cells": [
  {
   "cell_type": "markdown",
   "metadata": {},
   "source": [
    "## Working with files"
   ]
  },
  {
   "cell_type": "code",
   "execution_count": 4,
   "metadata": {},
   "outputs": [
    {
     "name": "stdout",
     "output_type": "stream",
     "text": [
      "<class 'str'>\n"
     ]
    }
   ],
   "source": [
    "infile = open(\"rab20.fasta\", \"r\", encoding=\"utf-8\")\n",
    "data = infile.read()\n",
    "print(type(data))"
   ]
  },
  {
   "cell_type": "code",
   "execution_count": 2,
   "metadata": {},
   "outputs": [
    {
     "name": "stdout",
     "output_type": "stream",
     "text": [
      ">NP_001086022.1 RAB20, member RAS oncogene family L homeolog [Xenopus laevis]\n",
      "\n"
     ]
    }
   ],
   "source": [
    "infile = open(\"rab20.fasta\", \"r\")\n",
    "data = infile.readline()\n",
    "print(data)"
   ]
  },
  {
   "cell_type": "code",
   "execution_count": 5,
   "metadata": {},
   "outputs": [
    {
     "name": "stdout",
     "output_type": "stream",
     "text": [
      "<class 'list'>\n"
     ]
    }
   ],
   "source": [
    "infile = open(\"rab20.fasta\", \"r\")\n",
    "data = infile.readlines()\n",
    "print(type(data))"
   ]
  },
  {
   "cell_type": "code",
   "execution_count": null,
   "metadata": {},
   "outputs": [],
   "source": [
    "infile = open(\"rab20.fasta\", \"r\")\n",
    "for line in infile:\n",
    "    print(line)"
   ]
  },
  {
   "cell_type": "code",
   "execution_count": 11,
   "metadata": {},
   "outputs": [
    {
     "name": "stdout",
     "output_type": "stream",
     "text": [
      "loop2: >NP_001086022.1 RAB20, member RAS oncogene family L homeolog [Xenopus laevis]\n",
      "\n",
      "loop2: >XP_005792157.1 Rab20, rab family GTPase [Emiliania huxleyi CCMP1516]\n",
      "\n",
      "loop2: >NP_035357.1 ras-related protein Rab-20 [Mus musculus]\n",
      "\n",
      "loop2: >NP_060287.1 ras-related protein Rab-20 [Homo sapiens]\n",
      "\n",
      "loop2: >NP_001017295.1 ras-related protein Rab-20 [Xenopus tropicalis]\n",
      "\n",
      "loop1: >NP_001086022.1 RAB20, member RAS oncogene family L homeolog [Xenopus laevis]\n",
      "\n",
      "loop1: >XP_005792157.1 Rab20, rab family GTPase [Emiliania huxleyi CCMP1516]\n",
      "\n",
      "loop1: >NP_035357.1 ras-related protein Rab-20 [Mus musculus]\n",
      "\n",
      "loop1: >NP_060287.1 ras-related protein Rab-20 [Homo sapiens]\n",
      "\n",
      "loop1: >NP_001017295.1 ras-related protein Rab-20 [Xenopus tropicalis]\n",
      "\n"
     ]
    }
   ],
   "source": [
    "infile = open(\"rab20.fasta\", \"r\")\n",
    "\n",
    "for x in infile:\n",
    "    if '>' in x:\n",
    "        print('loop2:',x)     \n",
    "\n",
    "for y in infile:\n",
    "    if '>' in y:\n",
    "        print('loop1:', y)\n"
   ]
  },
  {
   "cell_type": "code",
   "execution_count": 13,
   "metadata": {},
   "outputs": [],
   "source": [
    "infile = open(\"out_file.fasta\", \"w\")\n",
    "infile.write('blabla')\n",
    "infile.close()"
   ]
  },
  {
   "cell_type": "code",
   "execution_count": null,
   "metadata": {},
   "outputs": [],
   "source": [
    "infile = open(\"out_file.fasta\", \"w\")\n",
    "infile.write('blabla')\n",
    "infile.close()"
   ]
  },
  {
   "cell_type": "code",
   "execution_count": 14,
   "metadata": {},
   "outputs": [],
   "source": [
    "with open(\"out_file.fasta\", 'w') as test_out:\n",
    "    test_out.write('blablabla blabla')"
   ]
  },
  {
   "cell_type": "code",
   "execution_count": null,
   "metadata": {},
   "outputs": [],
   "source": [
    "with open(\"out_file.fasta\", 'w') as test_out:\n",
    "    test_out.write('blablabla blabla')"
   ]
  },
  {
   "cell_type": "code",
   "execution_count": null,
   "metadata": {},
   "outputs": [],
   "source": [
    "with open(\"rab20.fasta\") as my_file:\n",
    "    for line in my_file:\n",
    "        print(line)"
   ]
  },
  {
   "cell_type": "code",
   "execution_count": 17,
   "metadata": {},
   "outputs": [],
   "source": [
    "with open(\"out_file.fasta\", 'a') as test_out:\n",
    "    test_out.write('\\nnew \\tblabla')"
   ]
  },
  {
   "cell_type": "code",
   "execution_count": 18,
   "metadata": {},
   "outputs": [
    {
     "ename": "TypeError",
     "evalue": "write() argument must be str, not int",
     "output_type": "error",
     "traceback": [
      "\u001b[0;31m----------------------------------------------------------\u001b[0m",
      "\u001b[0;31mTypeError\u001b[0m                Traceback (most recent call last)",
      "\u001b[0;32m<ipython-input-18-f30ba4068b81>\u001b[0m in \u001b[0;36m<module>\u001b[0;34m\u001b[0m\n\u001b[1;32m      1\u001b[0m \u001b[0;32mwith\u001b[0m \u001b[0mopen\u001b[0m\u001b[0;34m(\u001b[0m\u001b[0;34m\"result\"\u001b[0m\u001b[0;34m,\u001b[0m \u001b[0;34m'w'\u001b[0m\u001b[0;34m)\u001b[0m \u001b[0;32mas\u001b[0m \u001b[0mres\u001b[0m\u001b[0;34m:\u001b[0m\u001b[0;34m\u001b[0m\u001b[0;34m\u001b[0m\u001b[0m\n\u001b[0;32m----> 2\u001b[0;31m     \u001b[0mres\u001b[0m\u001b[0;34m.\u001b[0m\u001b[0mwrite\u001b[0m\u001b[0;34m(\u001b[0m\u001b[0;36m1000\u001b[0m\u001b[0;34m)\u001b[0m\u001b[0;34m\u001b[0m\u001b[0;34m\u001b[0m\u001b[0m\n\u001b[0m",
      "\u001b[0;31mTypeError\u001b[0m: write() argument must be str, not int"
     ]
    }
   ],
   "source": [
    "with open(\"result\", 'w') as res:\n",
    "    res.write(1000)"
   ]
  },
  {
   "cell_type": "markdown",
   "metadata": {},
   "source": [
    "## string formating"
   ]
  },
  {
   "cell_type": "code",
   "execution_count": 24,
   "metadata": {},
   "outputs": [
    {
     "name": "stdout",
     "output_type": "stream",
     "text": [
      "Hi, my name is David and I am 28\n",
      "Hi, my name is David and I am 28\n",
      "Hi, my name is blabla and I am 28\n"
     ]
    }
   ],
   "source": [
    "name = 'David'\n",
    "age = 20+8\n",
    "\n",
    "# old format\n",
    "print('Hi, my name is %s and I am %s' % (name, age))\n",
    "\n",
    "# new format\n",
    "print('Hi, my name is {0} and I am {1}'.format(name, age))\n",
    "\n",
    "#super new format (from 3.6)\n",
    "print(f'Hi, my name is {\"blabla\"} and I am {age}')\n"
   ]
  },
  {
   "cell_type": "code",
   "execution_count": null,
   "metadata": {},
   "outputs": [],
   "source": []
  }
 ],
 "metadata": {
  "kernelspec": {
   "display_name": "Python 3",
   "language": "python",
   "name": "python3"
  },
  "language_info": {
   "codemirror_mode": {
    "name": "ipython",
    "version": 3
   },
   "file_extension": ".py",
   "mimetype": "text/x-python",
   "name": "python",
   "nbconvert_exporter": "python",
   "pygments_lexer": "ipython3",
   "version": "3.7.3"
  }
 },
 "nbformat": 4,
 "nbformat_minor": 4
}
