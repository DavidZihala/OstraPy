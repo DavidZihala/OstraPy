{
 "cells": [
  {
   "cell_type": "markdown",
   "metadata": {},
   "source": [
    "**1: Find CTATA/T(A or T) in the sequence and change these motifs to XXXXX Sequence:\n",
    "'ACGTAGCTAGCTATAGGTATAAAGAGCTAGCTCTATTAGCAGCTAGCTGATCGATGCTATACTAGCTAGCA'**"
   ]
  },
  {
   "cell_type": "markdown",
   "metadata": {},
   "source": [
    "**2: Find all occureces(span) of 'all' in this sentence.**"
   ]
  },
  {
   "cell_type": "markdown",
   "metadata": {},
   "source": [
    "**3: Find all potential codons for Glycine in a given sequence. Be smart. Have fun.\n",
    "'TGGACGATGCGGGTACAGTCGATGCTAGGGTCGGGATGCTAGGCTGAGCTAGCTATCGATGCGGCGCGGGAGCAGCAGCGGGATCGGTAGTCATGGGC'**"
   ]
  }
 ],
 "metadata": {
  "kernelspec": {
   "display_name": "Python 3",
   "language": "python",
   "name": "python3"
  },
  "language_info": {
   "codemirror_mode": {
    "name": "ipython",
    "version": 3
   },
   "file_extension": ".py",
   "mimetype": "text/x-python",
   "name": "python",
   "nbconvert_exporter": "python",
   "pygments_lexer": "ipython3",
   "version": "3.7.3"
  }
 },
 "nbformat": 4,
 "nbformat_minor": 4
}
