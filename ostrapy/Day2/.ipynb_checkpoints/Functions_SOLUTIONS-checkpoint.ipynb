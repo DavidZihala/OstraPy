{
 "cells": [
  {
   "cell_type": "markdown",
   "metadata": {},
   "source": [
    "**1: Prepare basic function for multiplying input by 5**"
   ]
  },
  {
   "cell_type": "code",
   "execution_count": null,
   "metadata": {
    "collapsed": true,
    "jupyter": {
     "outputs_hidden": true
    }
   },
   "outputs": [],
   "source": [
    "def multiplier(x):\n",
    "    return x*5"
   ]
  },
  {
   "cell_type": "markdown",
   "metadata": {},
   "source": [
    "**2: Prepare function for GC content and test it.**"
   ]
  },
  {
   "cell_type": "code",
   "execution_count": 5,
   "metadata": {},
   "outputs": [
    {
     "data": {
      "text/plain": [
       "0.75"
      ]
     },
     "execution_count": 5,
     "metadata": {},
     "output_type": "execute_result"
    }
   ],
   "source": [
    "sequence = 'TAGCTAGCTGATCGTAGCTAGCAAGCTGATCGATC'\n",
    "\n",
    "def gc_content(dna_seq):\n",
    "    G = dna_seq.count('G')\n",
    "    C = dna_seq.count('C')\n",
    "    return (G+C)/(len(dna_seq))\n",
    "GC_content('AGGG')"
   ]
  },
  {
   "cell_type": "markdown",
   "metadata": {},
   "source": [
    "**3. Make function which gives you opposite strand of given sequence (reverse complement).**"
   ]
  },
  {
   "cell_type": "code",
   "execution_count": 2,
   "metadata": {},
   "outputs": [
    {
     "name": "stdout",
     "output_type": "stream",
     "text": [
      "atcgatcgactagcatcgatcgttcgactagctag\n"
     ]
    },
    {
     "data": {
      "text/plain": [
       "'GATCGATCAGCTTGCTAGCTACGATCAGCTAGCTA'"
      ]
     },
     "execution_count": 2,
     "metadata": {},
     "output_type": "execute_result"
    }
   ],
   "source": [
    "sequence = 'TAGCTAGCTGATCGTAGCTAGCAAGCTGATCGATC'\n",
    "\n",
    "def rev_com(seq):\n",
    "    seq = seq.replace('A', 't')\n",
    "    seq = seq.replace('T', 'a')\n",
    "    seq = seq.replace('G', 'c')\n",
    "    seq = seq.replace('C', 'g')\n",
    "    print(seq)\n",
    "    result = seq.upper()\n",
    "    return result[::-1]\n",
    "\n",
    "rev_com(sequence)"
   ]
  },
  {
   "cell_type": "markdown",
   "metadata": {},
   "source": [
    "**4: Prepare function which read fasta_file as input and return list of NCBI_numbers. Use rab20.fasta file to try it**"
   ]
  },
  {
   "cell_type": "code",
   "execution_count": 7,
   "metadata": {},
   "outputs": [
    {
     "name": "stdout",
     "output_type": "stream",
     "text": [
      "['NP_001086022.1', 'XP_005792157.1', 'NP_035357.1', 'NP_060287.1', 'NP_001017295.1']\n"
     ]
    }
   ],
   "source": [
    "def ncbi_num_reader(fasta_file):\n",
    "    ncbi_num = []\n",
    "    for line in open(fasta_file):\n",
    "        if line.startswith('>'):\n",
    "            ncbi_num.append(line.split()[0][1:])\n",
    "    return ncbi_num\n",
    "\n",
    "print(ncbi_num_reader('rab20.fasta'))"
   ]
  },
  {
   "cell_type": "markdown",
   "metadata": {},
   "source": [
    "**5: Prepare function for cutting DNA sequence into codons. Return list of them.**"
   ]
  },
  {
   "cell_type": "code",
   "execution_count": 16,
   "metadata": {},
   "outputs": [
    {
     "data": {
      "text/plain": [
       "['ATG', 'TGG', 'AAA', 'GGG']"
      ]
     },
     "execution_count": 16,
     "metadata": {},
     "output_type": "execute_result"
    }
   ],
   "source": [
    "def dna_to_codons(dna_seq):\n",
    "    codon_list = []\n",
    "    for i in range(0,len(dna_seq),3):\n",
    "        codon_list.append(dna_seq[i:i+3])\n",
    "    return(codon_list)\n",
    "dna_to_codons('ATGTGGAAAGGG')\n",
    "        "
   ]
  },
  {
   "cell_type": "code",
   "execution_count": 17,
   "metadata": {},
   "outputs": [
    {
     "data": {
      "text/plain": [
       "['ATG', 'TGG', 'AAA', 'GGG']"
      ]
     },
     "execution_count": 17,
     "metadata": {},
     "output_type": "execute_result"
    }
   ],
   "source": [
    "# different solution\n",
    "def dna_to_codons(dna_seq):\n",
    "    return [dna_seq[i:i+3] for i in range(0,len(dna_seq),3)]\n",
    "dna_to_codons('ATGTGGAAAGGG')"
   ]
  },
  {
   "cell_type": "markdown",
   "metadata": {},
   "source": [
    "**6: Prepare function which will translate DNA to protein. You can use partial code below. Test your code on the sequence 'TAGTAGGGCCGTGAAGCTACCTGATGA'**"
   ]
  },
  {
   "cell_type": "code",
   "execution_count": 1,
   "metadata": {},
   "outputs": [
    {
     "data": {
      "text/plain": [
       "'**GREAT**'"
      ]
     },
     "execution_count": 1,
     "metadata": {},
     "output_type": "execute_result"
    }
   ],
   "source": [
    "translation_table = {\"TTT\": \"F\", \"TTC\": \"F\", \"TTA\": \"L\" , \"TTG\": \"L\",\n",
    "                \"TCT\": \"S\", \"TCC\": \"S\" , \"TCA\": \"S\" , \"TCG\": \"S\",\n",
    "                \"TAT\": \"Y\" , \"TAC\": \"Y\" , \"TAA\": \"*\" , \"TAG\": \"*\",\n",
    "                \"TGT\": \"C\" , \"TGC\": \"C\" , \"TGA\": \"*\" , \"TGG\": \"W\", \n",
    "                \"CTT\": \"L\" , \"CTC\": \"L\" , \"CTA\": \"L\" , \"CTG\": \"L\",\n",
    "                \"CCT\": \"P\" , \"CCC\": \"P\" , \"CCA\": \"P\" , \"CCG\": \"P\",\n",
    "                \"CAT\": \"H\" , \"CAC\": \"H\" , \"CAA\": \"Q\" , \"CAG\": \"Q\",\n",
    "                \"CGT\": \"R\" , \"CGC\": \"R\" , \"CGA\": \"R\" , \"CGG\": \"R\",\n",
    "                \"ATT\": \"I\" , \"ATC\": \"I\" , \"ATA\": \"I\" , \"ATG\": \"M\",\n",
    "                \"ACT\": \"T\" , \"ACC\": \"T\" , \"ACA\": \"T\" , \"ACG\": \"T\",\n",
    "                \"AAT\": \"N\" , \"AAC\": \"N\" , \"AAA\": \"K\" , \"AAG\": \"K\",\n",
    "                \"AGT\": \"S\" , \"AGC\": \"S\" , \"AGA\": \"R\" , \"AGG\": \"R\",\n",
    "                \"GTT\": \"V\" , \"GTC\": \"V\" , \"GTA\": \"V\" , \"GTG\": \"V\",\n",
    "                \"GCT\": \"A\" , \"GCC\": \"A\" , \"GCA\": \"A\" , \"GCG\": \"A\",\n",
    "                \"GAT\": \"D\" , \"GAC\": \"D\" , \"GAA\": \"E\" , \"GAG\": \"E\",\n",
    "                \"GGT\": \"G\" , \"GGC\": \"G\" , \"GGA\": \"G\" , \"GGG\": \"G\"}\n",
    "\n",
    "def translation(dna_seq):\n",
    "    amino_acids = []\n",
    "    for i in range(0,len(dna_seq),3):\n",
    "        codon = dna_seq[i:i+3]\n",
    "        amino_acids.append(translation_table[codon])\n",
    "    return \"\".join(amino_acids)\n",
    "translation('TAGTAGGGCCGTGAAGCTACCTGATGA')"
   ]
  }
 ],
 "metadata": {
  "kernelspec": {
   "display_name": "Python 3",
   "language": "python",
   "name": "python3"
  },
  "language_info": {
   "codemirror_mode": {
    "name": "ipython",
    "version": 3
   },
   "file_extension": ".py",
   "mimetype": "text/x-python",
   "name": "python",
   "nbconvert_exporter": "python",
   "pygments_lexer": "ipython3",
   "version": "3.7.3"
  }
 },
 "nbformat": 4,
 "nbformat_minor": 4
}
