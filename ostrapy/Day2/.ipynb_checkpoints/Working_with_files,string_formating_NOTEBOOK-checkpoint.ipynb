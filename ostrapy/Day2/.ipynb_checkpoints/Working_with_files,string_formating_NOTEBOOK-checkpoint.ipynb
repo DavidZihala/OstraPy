{
 "cells": [
  {
   "cell_type": "markdown",
   "metadata": {},
   "source": [
    "## Working with files"
   ]
  },
  {
   "cell_type": "code",
   "execution_count": null,
   "metadata": {},
   "outputs": [],
   "source": [
    "infile = open(\"rab20.fasta\", \"r\")\n",
    "data = infile.read()\n",
    "print(data)"
   ]
  },
  {
   "cell_type": "code",
   "execution_count": null,
   "metadata": {},
   "outputs": [],
   "source": [
    "infile = open(\"rab20.fasta\", \"r\")\n",
    "data = infile.readline()\n",
    "print(data)"
   ]
  },
  {
   "cell_type": "code",
   "execution_count": null,
   "metadata": {},
   "outputs": [],
   "source": [
    "infile = open(\"rab20.fasta\", \"r\")\n",
    "data = infile.readlines()\n",
    "print(data)"
   ]
  },
  {
   "cell_type": "code",
   "execution_count": null,
   "metadata": {},
   "outputs": [],
   "source": [
    "infile = open(\"rab20.fasta\", \"r\")\n",
    "for line in infile:\n",
    "    print(line)"
   ]
  },
  {
   "cell_type": "code",
   "execution_count": null,
   "metadata": {},
   "outputs": [],
   "source": [
    "infile = open(\"rab20.fasta\", \"r\")\n",
    "for line in infile:\n",
    "    print('loop1:', line)\n",
    "\n",
    "for line in infile:\n",
    "    print('loop2:',line)"
   ]
  },
  {
   "cell_type": "code",
   "execution_count": null,
   "metadata": {},
   "outputs": [],
   "source": [
    "with open(\"rab20.fasta\") as my_file:\n",
    "    for line in my_file:\n",
    "        print(line)"
   ]
  },
  {
   "cell_type": "code",
   "execution_count": null,
   "metadata": {},
   "outputs": [],
   "source": [
    "infile = open(\"out_file.fasta\", \"w\")\n",
    "infile.write('blabla')"
   ]
  },
  {
   "cell_type": "code",
   "execution_count": null,
   "metadata": {},
   "outputs": [],
   "source": [
    "infile = open(\"out_file.fasta\", \"w\")\n",
    "infile.write('blabla')\n",
    "infile.close()"
   ]
  },
  {
   "cell_type": "code",
   "execution_count": null,
   "metadata": {},
   "outputs": [],
   "source": [
    "with open(\"out_file.fasta\", 'w') as test_out:\n",
    "    test_out.write('blablabla blabla')"
   ]
  },
  {
   "cell_type": "code",
   "execution_count": null,
   "metadata": {},
   "outputs": [],
   "source": [
    "with open(\"out_file.fasta\", 'w') as test_out:\n",
    "    test_out.write('blablabla blabla')"
   ]
  },
  {
   "cell_type": "code",
   "execution_count": null,
   "metadata": {},
   "outputs": [],
   "source": [
    "with open(\"out_file.fasta\", 'a') as test_out:\n",
    "    test_out.write('new blabla')"
   ]
  },
  {
   "cell_type": "markdown",
   "metadata": {},
   "source": [
    "## string formating"
   ]
  },
  {
   "cell_type": "code",
   "execution_count": null,
   "metadata": {},
   "outputs": [],
   "source": [
    "name = 'David'\n",
    "age = 20+8\n",
    "\n",
    "# old format\n",
    "print('Hi, my name is %s and I am %s' % (name, age))\n",
    "\n",
    "# new format\n",
    "print('Hi, my name is {0} and I am {1}'.format(name, age))\n",
    "\n",
    "#super new format (from 3.6)\n",
    "print(f'Hi, my name is {name} and I am {age}')\n"
   ]
  },
  {
   "cell_type": "code",
   "execution_count": null,
   "metadata": {},
   "outputs": [],
   "source": [
    "# new format\n",
    "name = 'David'\n",
    "age = 20+8\n",
    "\n",
    "print('Hi, my name is {0} and I am {0}'.format(name, age))\n",
    "print('Hi, my name is {0} and I am {20+8}'.format(name, age))"
   ]
  },
  {
   "cell_type": "code",
   "execution_count": null,
   "metadata": {},
   "outputs": [],
   "source": [
    "# super new format\n",
    "\n",
    "print(f'Hi, my name is {\"Da\" + \"vid\"} and I am {20+8}')"
   ]
  }
 ],
 "metadata": {
  "kernelspec": {
   "display_name": "Python 3",
   "language": "python",
   "name": "python3"
  },
  "language_info": {
   "codemirror_mode": {
    "name": "ipython",
    "version": 3
   },
   "file_extension": ".py",
   "mimetype": "text/x-python",
   "name": "python",
   "nbconvert_exporter": "python",
   "pygments_lexer": "ipython3",
   "version": "3.7.3"
  }
 },
 "nbformat": 4,
 "nbformat_minor": 4
}
