{
 "cells": [
  {
   "cell_type": "markdown",
   "metadata": {},
   "source": [
    "**1: Prepare basic function for multiplying input by 5**"
   ]
  },
  {
   "cell_type": "markdown",
   "metadata": {},
   "source": [
    "**2: Prepare function for GC content and test it.**"
   ]
  },
  {
   "cell_type": "markdown",
   "metadata": {},
   "source": [
    "**3. Make function which gives you opposite strand of a given sequence (reverse complement).**"
   ]
  },
  {
   "cell_type": "markdown",
   "metadata": {},
   "source": [
    "**4: Prepare function which reads fasta_file as input and return list of NCBI_numbers. Use rab20.fasta file to try it**"
   ]
  },
  {
   "cell_type": "markdown",
   "metadata": {},
   "source": [
    "**5: Prepare simple function for cutting DNA sequence into codons. Return list of them.**"
   ]
  },
  {
   "cell_type": "markdown",
   "metadata": {},
   "source": [
    "**6: Prepare simple function for DNA translation. You can use partial code below. Test your code on this sequence 'TAGTAGGGCCGTGAAGCTACCTGATGA'**"
   ]
  },
  {
   "cell_type": "code",
   "execution_count": null,
   "metadata": {
    "scrolled": true
   },
   "outputs": [],
   "source": [
    "translation_table = {\"TTT\": \"F\", \"TTC\": \"F\", \"TTA\": \"L\" , \"TTG\": \"L\",\n",
    "                \"TCT\": \"S\", \"TCC\": \"S\" , \"TCA\": \"S\" , \"TCG\": \"S\",\n",
    "                \"TAT\": \"Y\" , \"TAC\": \"Y\" , \"TAA\": \"*\" , \"TAG\": \"*\",\n",
    "                \"TGT\": \"C\" , \"TGC\": \"C\" , \"TGA\": \"*\" , \"TGG\": \"W\", \n",
    "                \"CTT\": \"L\" , \"CTC\": \"L\" , \"CTA\": \"L\" , \"CTG\": \"L\",\n",
    "                \"CCT\": \"P\" , \"CCC\": \"P\" , \"CCA\": \"P\" , \"CCG\": \"P\",\n",
    "                \"CAT\": \"H\" , \"CAC\": \"H\" , \"CAA\": \"Q\" , \"CAG\": \"Q\",\n",
    "                \"CGT\": \"R\" , \"CGC\": \"R\" , \"CGA\": \"R\" , \"CGG\": \"R\",\n",
    "                \"ATT\": \"I\" , \"ATC\": \"I\" , \"ATA\": \"I\" , \"ATG\": \"M\",\n",
    "                \"ACT\": \"T\" , \"ACC\": \"T\" , \"ACA\": \"T\" , \"ACG\": \"T\",\n",
    "                \"AAT\": \"N\" , \"AAC\": \"N\" , \"AAA\": \"K\" , \"AAG\": \"K\",\n",
    "                \"AGT\": \"S\" , \"AGC\": \"S\" , \"AGA\": \"R\" , \"AGG\": \"R\",\n",
    "                \"GTT\": \"V\" , \"GTC\": \"V\" , \"GTA\": \"V\" , \"GTG\": \"V\",\n",
    "                \"GCT\": \"A\" , \"GCC\": \"A\" , \"GCA\": \"A\" , \"GCG\": \"A\",\n",
    "                \"GAT\": \"D\" , \"GAC\": \"D\" , \"GAA\": \"E\" , \"GAG\": \"E\",\n",
    "                \"GGT\": \"G\" , \"GGC\": \"G\" , \"GGA\": \"G\" , \"GGG\": \"G\"}"
   ]
  }
 ],
 "metadata": {
  "kernelspec": {
   "display_name": "Python 3",
   "language": "python",
   "name": "python3"
  },
  "language_info": {
   "codemirror_mode": {
    "name": "ipython",
    "version": 3
   },
   "file_extension": ".py",
   "mimetype": "text/x-python",
   "name": "python",
   "nbconvert_exporter": "python",
   "pygments_lexer": "ipython3",
   "version": "3.7.3"
  }
 },
 "nbformat": 4,
 "nbformat_minor": 4
}
