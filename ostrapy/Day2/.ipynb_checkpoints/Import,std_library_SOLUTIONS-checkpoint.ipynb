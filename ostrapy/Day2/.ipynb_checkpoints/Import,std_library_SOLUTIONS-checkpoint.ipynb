{
 "cells": [
  {
   "cell_type": "markdown",
   "metadata": {},
   "source": [
    "**1: List all file names in this folder and print only those with contains \".ipynb\"**"
   ]
  },
  {
   "cell_type": "code",
   "execution_count": 3,
   "metadata": {
    "scrolled": true
   },
   "outputs": [
    {
     "name": "stdout",
     "output_type": "stream",
     "text": [
      "Import,std_library_EXERCISES.ipynb\n",
      "Working_with_files,string_formating_SOLUTIONS.ipynb\n",
      "Functions_NOTEBOOK.ipynb\n",
      "Import,std_library_SOLUTIONS.ipynb\n",
      ".ipynb_checkpoints\n",
      "std_lib_my_notes.ipynb\n",
      "Working_with_files,string_formating_NOTEBOOK.ipynb\n",
      "Functions_SOLUTIONS.ipynb\n",
      "Import,std_library_NOTEBOOK.ipynb\n",
      "Working_with_files,string_formating_EXERCISES.ipynb\n"
     ]
    }
   ],
   "source": [
    "# Shorter version\n",
    "import os\n",
    "\n",
    "for name in os.listdir():\n",
    "    if \".ipynb\" in name:\n",
    "        print(name)"
   ]
  },
  {
   "cell_type": "code",
   "execution_count": 1,
   "metadata": {},
   "outputs": [
    {
     "data": {
      "text/plain": [
       "['Functions_SOLUTIONS.ipynb',\n",
       " 'Import,std_library_EXERCISES.ipynb',\n",
       " 'Functions_EXERCISES.ipynb',\n",
       " 'Import,std_library_SOLUTIONS.ipynb',\n",
       " 'Biopython-SeqIO_NOTEBOOK.ipynb',\n",
       " 'Biopython-SeqIO_EXERCISES.ipynb',\n",
       " 'Biopython-SeqIO_SOLUTIONS.ipynb',\n",
       " 'Functions_NOTEBOOK.ipynb',\n",
       " 'Generators_comprehensions_NOTEBOOK.ipynb',\n",
       " 'Import,std_library_NOTEBOOK.ipynb']"
      ]
     },
     "execution_count": 1,
     "metadata": {},
     "output_type": "execute_result"
    }
   ],
   "source": [
    "# Better option\n",
    "import glob\n",
    "\n",
    "glob.glob('*.ipynb')"
   ]
  },
  {
   "cell_type": "markdown",
   "metadata": {},
   "source": [
    "**2: Modify the code from exercise 1 so output will not be printed but written into file name \"result\".**"
   ]
  },
  {
   "cell_type": "code",
   "execution_count": 4,
   "metadata": {},
   "outputs": [],
   "source": [
    "import os\n",
    "\n",
    "with open('result', 'w') as res:\n",
    "    for name in os.listdir():\n",
    "        if \"ipynb\" in name:\n",
    "            res.write(name + \"\\n\")"
   ]
  },
  {
   "cell_type": "markdown",
   "metadata": {},
   "source": [
    "**3: Rename file \"result\" to \"result.txt\".**"
   ]
  },
  {
   "cell_type": "code",
   "execution_count": 5,
   "metadata": {},
   "outputs": [],
   "source": [
    "os.rename(\"result\", \"result.txt\")"
   ]
  },
  {
   "cell_type": "markdown",
   "metadata": {},
   "source": [
    "**4: Make directory \"result_directory\", move result.txt to that directory.**"
   ]
  },
  {
   "cell_type": "code",
   "execution_count": 7,
   "metadata": {
    "collapsed": true
   },
   "outputs": [],
   "source": [
    "os.mkdir(\"result_directory\")\n",
    "os.rename(\"result.txt\", \"result_directory/result.txt\")"
   ]
  },
  {
   "cell_type": "markdown",
   "metadata": {},
   "source": [
    "**5: Count occurences of all items in this list: ['DNA','RNA', 'DNA', 'protein', 'DNA', 'protein', 'DNA', 'RNA', 'DNA', 'RNA', 'RNA']**"
   ]
  },
  {
   "cell_type": "code",
   "execution_count": 7,
   "metadata": {},
   "outputs": [
    {
     "data": {
      "text/plain": [
       "Counter({'DNA': 5, 'RNA': 4, 'protein': 2})"
      ]
     },
     "execution_count": 7,
     "metadata": {},
     "output_type": "execute_result"
    }
   ],
   "source": [
    "from collections import Counter\n",
    "\n",
    "my_list =  ['DNA','RNA', 'DNA', 'protein', 'DNA', 'protein', 'DNA', 'RNA', 'DNA', 'RNA', 'RNA']\n",
    "\n",
    "Counter(my_list)"
   ]
  }
 ],
 "metadata": {
  "kernelspec": {
   "display_name": "Python 3",
   "language": "python",
   "name": "python3"
  },
  "language_info": {
   "codemirror_mode": {
    "name": "ipython",
    "version": 3
   },
   "file_extension": ".py",
   "mimetype": "text/x-python",
   "name": "python",
   "nbconvert_exporter": "python",
   "pygments_lexer": "ipython3",
   "version": "3.6.6"
  }
 },
 "nbformat": 4,
 "nbformat_minor": 2
}
